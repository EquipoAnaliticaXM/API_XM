{
 "cells": [
  {
   "cell_type": "markdown",
   "id": "a272ce64",
   "metadata": {},
   "source": [
    "# Objetivos de este Notebook\n",
    "\n",
    "* Explicar cómo se pueden cruzar tablas\n",
    "* Explicar cómo se pueden construir gráficas con los datos\n",
    "\n",
    "\n",
    "**Índice**\n",
    "\n",
    "1. [Importación de librerías](#section1)\n",
    "\n",
    "2. [Realizar cruces](#section2)\n",
    "\n",
    "3. [Graficar](#section3)\n"
   ]
  },
  {
   "cell_type": "markdown",
   "id": "05a68abb",
   "metadata": {},
   "source": [
    "<a id='section1'></a>\n",
    "# Importación de librerías"
   ]
  },
  {
   "cell_type": "code",
   "execution_count": 1,
   "id": "562d7c7a",
   "metadata": {
    "scrolled": true
   },
   "outputs": [],
   "source": [
    "from pydataxm import *          # Importa la libreria que fue instalada con pip install pydataxm o tambien desde GitHub\n",
    "from pydataxm.pydataxm import ReadDB as apiXM    #Se importa la clase que invoca el servicio\n",
    "import datetime as dt           # Permite trabajar con fechas \n",
    "import pandas as pd             # Manipulacion de datos\n",
    "import numpy as np              # Manipulación de datos\n",
    "import matplotlib.pyplot as plt # Construcción de gráficas"
   ]
  },
  {
   "cell_type": "code",
   "execution_count": 2,
   "id": "95e2514b",
   "metadata": {
    "scrolled": true
   },
   "outputs": [],
   "source": [
    "objetoAPI = pydataxm.ReadDB()     # Construir la clase que contiene los métodos de pydataxm"
   ]
  },
  {
   "cell_type": "code",
   "execution_count": 3,
   "id": "3661be44",
   "metadata": {
    "scrolled": true
   },
   "outputs": [
    {
     "data": {
      "text/plain": [
       "[[0, 'Generacion Real', 'Sistema', 'Horaria'],\n",
       " [1, 'Generacion Real por Recurso', 'Recurso', 'Horaria']]"
      ]
     },
     "execution_count": 3,
     "metadata": {},
     "output_type": "execute_result"
    }
   ],
   "source": [
    "objetoAPI.get_collections('Gene') # Revisar los cruces disponibles para generación real"
   ]
  },
  {
   "cell_type": "code",
   "execution_count": 4,
   "id": "9ac1fb3f",
   "metadata": {
    "scrolled": true
   },
   "outputs": [
    {
     "data": {
      "text/plain": [
       "[[0, 'Listado Recursos', 'Sistema', 'Lista'],\n",
       " [1, 'Listado Recursos', 'Agente', 'Lista']]"
      ]
     },
     "execution_count": 4,
     "metadata": {},
     "output_type": "execute_result"
    }
   ],
   "source": [
    "objetoAPI.get_collections('ListadoRecursos') #Listado de plantas registradas ante el CND"
   ]
  },
  {
   "cell_type": "code",
   "execution_count": 5,
   "id": "c2af635f",
   "metadata": {
    "scrolled": true
   },
   "outputs": [],
   "source": [
    "df_generacion = objetoAPI.request_data('Gene',\n",
    "                                       1,\n",
    "                                       dt.date(2021,3,1),\n",
    "                                       dt.date(2021,3,31))"
   ]
  },
  {
   "cell_type": "code",
   "execution_count": 6,
   "id": "0080dcf9",
   "metadata": {
    "scrolled": true
   },
   "outputs": [
    {
     "data": {
      "text/html": [
       "<div>\n",
       "<style scoped>\n",
       "    .dataframe tbody tr th:only-of-type {\n",
       "        vertical-align: middle;\n",
       "    }\n",
       "\n",
       "    .dataframe tbody tr th {\n",
       "        vertical-align: top;\n",
       "    }\n",
       "\n",
       "    .dataframe thead th {\n",
       "        text-align: right;\n",
       "    }\n",
       "</style>\n",
       "<table border=\"1\" class=\"dataframe\">\n",
       "  <thead>\n",
       "    <tr style=\"text-align: right;\">\n",
       "      <th></th>\n",
       "      <th>Id</th>\n",
       "      <th>Values_code</th>\n",
       "      <th>Values_Hour01</th>\n",
       "      <th>Values_Hour02</th>\n",
       "      <th>Values_Hour03</th>\n",
       "      <th>Values_Hour04</th>\n",
       "      <th>Values_Hour05</th>\n",
       "      <th>Values_Hour06</th>\n",
       "      <th>Values_Hour07</th>\n",
       "      <th>Values_Hour08</th>\n",
       "      <th>...</th>\n",
       "      <th>Values_Hour16</th>\n",
       "      <th>Values_Hour17</th>\n",
       "      <th>Values_Hour18</th>\n",
       "      <th>Values_Hour19</th>\n",
       "      <th>Values_Hour20</th>\n",
       "      <th>Values_Hour21</th>\n",
       "      <th>Values_Hour22</th>\n",
       "      <th>Values_Hour23</th>\n",
       "      <th>Values_Hour24</th>\n",
       "      <th>Date</th>\n",
       "    </tr>\n",
       "  </thead>\n",
       "  <tbody>\n",
       "    <tr>\n",
       "      <th>0</th>\n",
       "      <td>Recurso</td>\n",
       "      <td>2QBW</td>\n",
       "      <td>19874.12</td>\n",
       "      <td>19225.96</td>\n",
       "      <td>17896.89</td>\n",
       "      <td>17092.45</td>\n",
       "      <td>16603.83</td>\n",
       "      <td>16497.05</td>\n",
       "      <td>16399.56</td>\n",
       "      <td>16069.67</td>\n",
       "      <td>...</td>\n",
       "      <td>13981.37</td>\n",
       "      <td>13759.30</td>\n",
       "      <td>14374.97</td>\n",
       "      <td>19748.70</td>\n",
       "      <td>18925.88</td>\n",
       "      <td>16639.23</td>\n",
       "      <td>16269.53</td>\n",
       "      <td>16244.23</td>\n",
       "      <td>15713.35</td>\n",
       "      <td>2021-03-01</td>\n",
       "    </tr>\n",
       "    <tr>\n",
       "      <th>1</th>\n",
       "      <td>Recurso</td>\n",
       "      <td>2QRL</td>\n",
       "      <td>671.67</td>\n",
       "      <td>671.25</td>\n",
       "      <td>671.37</td>\n",
       "      <td>671.37</td>\n",
       "      <td>671.31</td>\n",
       "      <td>671.28</td>\n",
       "      <td>671.19</td>\n",
       "      <td>671.01</td>\n",
       "      <td>...</td>\n",
       "      <td>669.84</td>\n",
       "      <td>669.60</td>\n",
       "      <td>670.41</td>\n",
       "      <td>670.47</td>\n",
       "      <td>670.38</td>\n",
       "      <td>670.23</td>\n",
       "      <td>670.26</td>\n",
       "      <td>670.44</td>\n",
       "      <td>670.47</td>\n",
       "      <td>2021-03-01</td>\n",
       "    </tr>\n",
       "    <tr>\n",
       "      <th>2</th>\n",
       "      <td>Recurso</td>\n",
       "      <td>2QV2</td>\n",
       "      <td>NaN</td>\n",
       "      <td>NaN</td>\n",
       "      <td>NaN</td>\n",
       "      <td>NaN</td>\n",
       "      <td>NaN</td>\n",
       "      <td>NaN</td>\n",
       "      <td>NaN</td>\n",
       "      <td>NaN</td>\n",
       "      <td>...</td>\n",
       "      <td>18525.60</td>\n",
       "      <td>19094.40</td>\n",
       "      <td>19083.60</td>\n",
       "      <td>19072.80</td>\n",
       "      <td>19054.80</td>\n",
       "      <td>2072.50</td>\n",
       "      <td>NaN</td>\n",
       "      <td>NaN</td>\n",
       "      <td>NaN</td>\n",
       "      <td>2021-03-01</td>\n",
       "    </tr>\n",
       "    <tr>\n",
       "      <th>3</th>\n",
       "      <td>Recurso</td>\n",
       "      <td>2R22</td>\n",
       "      <td>11098.25</td>\n",
       "      <td>11476.17</td>\n",
       "      <td>11922.43</td>\n",
       "      <td>12166.74</td>\n",
       "      <td>11957.17</td>\n",
       "      <td>10901.77</td>\n",
       "      <td>12776.02</td>\n",
       "      <td>13677.24</td>\n",
       "      <td>...</td>\n",
       "      <td>12682.79</td>\n",
       "      <td>13024.39</td>\n",
       "      <td>13181.92</td>\n",
       "      <td>13591.48</td>\n",
       "      <td>13666.58</td>\n",
       "      <td>13661.82</td>\n",
       "      <td>13207.76</td>\n",
       "      <td>13070.88</td>\n",
       "      <td>17588.90</td>\n",
       "      <td>2021-03-01</td>\n",
       "    </tr>\n",
       "    <tr>\n",
       "      <th>4</th>\n",
       "      <td>Recurso</td>\n",
       "      <td>2S6Q</td>\n",
       "      <td>246.00</td>\n",
       "      <td>114.00</td>\n",
       "      <td>312.00</td>\n",
       "      <td>234.00</td>\n",
       "      <td>258.00</td>\n",
       "      <td>528.00</td>\n",
       "      <td>480.00</td>\n",
       "      <td>30.00</td>\n",
       "      <td>...</td>\n",
       "      <td>NaN</td>\n",
       "      <td>NaN</td>\n",
       "      <td>NaN</td>\n",
       "      <td>NaN</td>\n",
       "      <td>NaN</td>\n",
       "      <td>NaN</td>\n",
       "      <td>NaN</td>\n",
       "      <td>6.00</td>\n",
       "      <td>18.00</td>\n",
       "      <td>2021-03-01</td>\n",
       "    </tr>\n",
       "  </tbody>\n",
       "</table>\n",
       "<p>5 rows × 27 columns</p>\n",
       "</div>"
      ],
      "text/plain": [
       "        Id Values_code  Values_Hour01  Values_Hour02  Values_Hour03  \\\n",
       "0  Recurso        2QBW       19874.12       19225.96       17896.89   \n",
       "1  Recurso        2QRL         671.67         671.25         671.37   \n",
       "2  Recurso        2QV2            NaN            NaN            NaN   \n",
       "3  Recurso        2R22       11098.25       11476.17       11922.43   \n",
       "4  Recurso        2S6Q         246.00         114.00         312.00   \n",
       "\n",
       "   Values_Hour04  Values_Hour05  Values_Hour06  Values_Hour07  Values_Hour08  \\\n",
       "0       17092.45       16603.83       16497.05       16399.56       16069.67   \n",
       "1         671.37         671.31         671.28         671.19         671.01   \n",
       "2            NaN            NaN            NaN            NaN            NaN   \n",
       "3       12166.74       11957.17       10901.77       12776.02       13677.24   \n",
       "4         234.00         258.00         528.00         480.00          30.00   \n",
       "\n",
       "   ...  Values_Hour16  Values_Hour17  Values_Hour18  Values_Hour19  \\\n",
       "0  ...       13981.37       13759.30       14374.97       19748.70   \n",
       "1  ...         669.84         669.60         670.41         670.47   \n",
       "2  ...       18525.60       19094.40       19083.60       19072.80   \n",
       "3  ...       12682.79       13024.39       13181.92       13591.48   \n",
       "4  ...            NaN            NaN            NaN            NaN   \n",
       "\n",
       "   Values_Hour20  Values_Hour21  Values_Hour22  Values_Hour23  Values_Hour24  \\\n",
       "0       18925.88       16639.23       16269.53       16244.23       15713.35   \n",
       "1         670.38         670.23         670.26         670.44         670.47   \n",
       "2       19054.80        2072.50            NaN            NaN            NaN   \n",
       "3       13666.58       13661.82       13207.76       13070.88       17588.90   \n",
       "4            NaN            NaN            NaN           6.00          18.00   \n",
       "\n",
       "        Date  \n",
       "0 2021-03-01  \n",
       "1 2021-03-01  \n",
       "2 2021-03-01  \n",
       "3 2021-03-01  \n",
       "4 2021-03-01  \n",
       "\n",
       "[5 rows x 27 columns]"
      ]
     },
     "execution_count": 6,
     "metadata": {},
     "output_type": "execute_result"
    }
   ],
   "source": [
    "df_generacion.head() #Ver encabezados"
   ]
  },
  {
   "cell_type": "code",
   "execution_count": 7,
   "id": "bc702ec9",
   "metadata": {
    "scrolled": true
   },
   "outputs": [],
   "source": [
    "#df_generacion.iloc[:,2:26]=df_generacion.iloc[:,2:26].apply(pd.to_numeric,errors='coerce') #Convertir a numerico\n",
    "#df = df_generacion.convert_dtypes()"
   ]
  },
  {
   "cell_type": "code",
   "execution_count": 8,
   "id": "19a7d0b2",
   "metadata": {
    "scrolled": true
   },
   "outputs": [],
   "source": [
    "df_recursos = objetoAPI.request_data(\n",
    "                                    'ListadoRecursos',\n",
    "                                    0,\n",
    "                                    dt.date(2020,3,1),\n",
    "                                    dt.date(2020,3,31)) # obtiene los recursos en operación y pruebas                                                                                       "
   ]
  },
  {
   "cell_type": "code",
   "execution_count": 9,
   "id": "170009ed",
   "metadata": {
    "scrolled": false
   },
   "outputs": [
    {
     "data": {
      "text/html": [
       "<div>\n",
       "<style scoped>\n",
       "    .dataframe tbody tr th:only-of-type {\n",
       "        vertical-align: middle;\n",
       "    }\n",
       "\n",
       "    .dataframe tbody tr th {\n",
       "        vertical-align: top;\n",
       "    }\n",
       "\n",
       "    .dataframe thead th {\n",
       "        text-align: right;\n",
       "    }\n",
       "</style>\n",
       "<table border=\"1\" class=\"dataframe\">\n",
       "  <thead>\n",
       "    <tr style=\"text-align: right;\">\n",
       "      <th></th>\n",
       "      <th>Id</th>\n",
       "      <th>Values_Code</th>\n",
       "      <th>Values_Name</th>\n",
       "      <th>Values_Type</th>\n",
       "      <th>Values_Disp</th>\n",
       "      <th>Values_RecType</th>\n",
       "      <th>Values_CompanyCode</th>\n",
       "      <th>Values_EnerSource</th>\n",
       "      <th>Values_OperStartdate</th>\n",
       "      <th>Values_State</th>\n",
       "      <th>Date</th>\n",
       "    </tr>\n",
       "  </thead>\n",
       "  <tbody>\n",
       "    <tr>\n",
       "      <th>0</th>\n",
       "      <td>Sistema</td>\n",
       "      <td>2QBW</td>\n",
       "      <td>EL POPAL</td>\n",
       "      <td>HIDRAULICA</td>\n",
       "      <td>NO DESPACHADO CENTRALMENTE</td>\n",
       "      <td>FILO DE AGUA</td>\n",
       "      <td>LCSG</td>\n",
       "      <td>AGUA</td>\n",
       "      <td>2014-03-31</td>\n",
       "      <td>OPERACION</td>\n",
       "      <td>2021-09-09</td>\n",
       "    </tr>\n",
       "    <tr>\n",
       "      <th>1</th>\n",
       "      <td>Sistema</td>\n",
       "      <td>2QEK</td>\n",
       "      <td>SALTO II</td>\n",
       "      <td>HIDRAULICA</td>\n",
       "      <td>DESPACHADO CENTRALMENTE</td>\n",
       "      <td>FILO DE AGUA</td>\n",
       "      <td>ENDG</td>\n",
       "      <td>AGUA</td>\n",
       "      <td>2014-06-25</td>\n",
       "      <td>OPERACION</td>\n",
       "      <td>2021-09-09</td>\n",
       "    </tr>\n",
       "    <tr>\n",
       "      <th>2</th>\n",
       "      <td>Sistema</td>\n",
       "      <td>2QRL</td>\n",
       "      <td>LA REBUSCA</td>\n",
       "      <td>HIDRAULICA</td>\n",
       "      <td>NO DESPACHADO CENTRALMENTE</td>\n",
       "      <td>NORMAL</td>\n",
       "      <td>HZEG</td>\n",
       "      <td>AGUA</td>\n",
       "      <td>2014-07-24</td>\n",
       "      <td>OPERACION</td>\n",
       "      <td>2021-09-09</td>\n",
       "    </tr>\n",
       "    <tr>\n",
       "      <th>3</th>\n",
       "      <td>Sistema</td>\n",
       "      <td>2QV2</td>\n",
       "      <td>BAJO TULUA</td>\n",
       "      <td>HIDRAULICA</td>\n",
       "      <td>NO DESPACHADO CENTRALMENTE</td>\n",
       "      <td>NORMAL</td>\n",
       "      <td>EPSG</td>\n",
       "      <td>AGUA</td>\n",
       "      <td>2015-01-30</td>\n",
       "      <td>OPERACION</td>\n",
       "      <td>2021-09-09</td>\n",
       "    </tr>\n",
       "    <tr>\n",
       "      <th>4</th>\n",
       "      <td>Sistema</td>\n",
       "      <td>2R22</td>\n",
       "      <td>LAGUNETA</td>\n",
       "      <td>HIDRAULICA</td>\n",
       "      <td>NO DESPACHADO CENTRALMENTE</td>\n",
       "      <td>NORMAL</td>\n",
       "      <td>ENDG</td>\n",
       "      <td>AGUA</td>\n",
       "      <td>2014-12-17</td>\n",
       "      <td>OPERACION</td>\n",
       "      <td>2021-09-09</td>\n",
       "    </tr>\n",
       "  </tbody>\n",
       "</table>\n",
       "</div>"
      ],
      "text/plain": [
       "        Id Values_Code Values_Name Values_Type                 Values_Disp  \\\n",
       "0  Sistema        2QBW    EL POPAL  HIDRAULICA  NO DESPACHADO CENTRALMENTE   \n",
       "1  Sistema        2QEK    SALTO II  HIDRAULICA     DESPACHADO CENTRALMENTE   \n",
       "2  Sistema        2QRL  LA REBUSCA  HIDRAULICA  NO DESPACHADO CENTRALMENTE   \n",
       "3  Sistema        2QV2  BAJO TULUA  HIDRAULICA  NO DESPACHADO CENTRALMENTE   \n",
       "4  Sistema        2R22    LAGUNETA  HIDRAULICA  NO DESPACHADO CENTRALMENTE   \n",
       "\n",
       "  Values_RecType Values_CompanyCode Values_EnerSource Values_OperStartdate  \\\n",
       "0   FILO DE AGUA               LCSG              AGUA           2014-03-31   \n",
       "1   FILO DE AGUA               ENDG              AGUA           2014-06-25   \n",
       "2         NORMAL               HZEG              AGUA           2014-07-24   \n",
       "3         NORMAL               EPSG              AGUA           2015-01-30   \n",
       "4         NORMAL               ENDG              AGUA           2014-12-17   \n",
       "\n",
       "  Values_State       Date  \n",
       "0    OPERACION 2021-09-09  \n",
       "1    OPERACION 2021-09-09  \n",
       "2    OPERACION 2021-09-09  \n",
       "3    OPERACION 2021-09-09  \n",
       "4    OPERACION 2021-09-09  "
      ]
     },
     "execution_count": 9,
     "metadata": {},
     "output_type": "execute_result"
    }
   ],
   "source": [
    "df_recursos.head()"
   ]
  },
  {
   "cell_type": "markdown",
   "id": "04e306c7",
   "metadata": {},
   "source": [
    "<a id='section2'></a>\n",
    "# Realizar cruces"
   ]
  },
  {
   "cell_type": "code",
   "execution_count": 10,
   "id": "5518a617",
   "metadata": {
    "scrolled": true
   },
   "outputs": [],
   "source": [
    "df = pd.merge(df_generacion,df_recursos,left_on=['Values_code'],right_on=['Values_Code'],how='left')"
   ]
  },
  {
   "cell_type": "code",
   "execution_count": 11,
   "id": "833d4eed",
   "metadata": {
    "scrolled": true
   },
   "outputs": [],
   "source": [
    "df_solar = df.query('Values_Type==\"SOLAR\"')"
   ]
  },
  {
   "cell_type": "code",
   "execution_count": 12,
   "id": "16b24ca4",
   "metadata": {
    "scrolled": true
   },
   "outputs": [
    {
     "data": {
      "text/plain": [
       "array(['AUTOG CELSIA SOLAR YUMBO', 'CELSIA SOLAR BOLIVAR',\n",
       "       'CELSIA SOLAR ESPINAL', 'TRINA-VATIA BSLI',\n",
       "       'PLANTA SOLAR BAYUNCA I', 'CELSIA SOLAR CARMELO', 'EL PASO',\n",
       "       'TRINA-VATIA BSLII', 'TRINA-VATIA BSLIII', 'GRANJA SOLAR BELMONTE'],\n",
       "      dtype=object)"
      ]
     },
     "execution_count": 12,
     "metadata": {},
     "output_type": "execute_result"
    }
   ],
   "source": [
    "df_solar.Values_Name.unique() #Recursos considerados"
   ]
  },
  {
   "cell_type": "code",
   "execution_count": 13,
   "id": "348aa39d",
   "metadata": {
    "scrolled": true
   },
   "outputs": [],
   "source": [
    "df_total = df_solar.iloc[:,1:27].melt(id_vars=['Date_x','Values_code']).fillna(0) #sustituir datos faltantes por cero"
   ]
  },
  {
   "cell_type": "code",
   "execution_count": 14,
   "id": "3de56ce6",
   "metadata": {
    "scrolled": true
   },
   "outputs": [],
   "source": [
    "data = df_total.groupby('variable').sum()                             #Sumar Energia\n",
    "data.index = [x.replace('Values_Hour','H') for x in data.index]       #Reajustar textos del indice"
   ]
  },
  {
   "cell_type": "markdown",
   "id": "efd04339",
   "metadata": {},
   "source": [
    "<a id='section3'></a>\n",
    "# Graficar"
   ]
  },
  {
   "cell_type": "code",
   "execution_count": 15,
   "id": "e11be64a",
   "metadata": {
    "scrolled": true
   },
   "outputs": [
    {
     "data": {
      "image/png": "[encoded data removed]",
      "text/plain": [
       "<Figure size 432x288 with 1 Axes>"
      ]
     },
     "metadata": {
      "needs_background": "light"
     },
     "output_type": "display_data"
    }
   ],
   "source": [
    "data = data.divide(1000)\n",
    "\n",
    "fig, ax = plt.subplots()\n",
    "ax.plot(data,'r',linewidth=0.7,label='Total')\n",
    "ax.fill(data,alpha=0.2)\n",
    "ax.set_ylabel('Energía promedio [MWh]')\n",
    "ax.set_xlabel('Hora')\n",
    "ax.legend()\n",
    "plt.xticks(rotation = 45);\n",
    "plt.title('Generacion Solar (marzo 2021)');"
   ]
  }
 ],
 "metadata": {
  "kernelspec": {
   "display_name": "Python 3",
   "language": "python",
   "name": "python3"
  },
  "language_info": {
   "codemirror_mode": {
    "name": "ipython",
    "version": 3
   },
   "file_extension": ".py",
   "mimetype": "text/x-python",
   "name": "python",
   "nbconvert_exporter": "python",
   "pygments_lexer": "ipython3",
   "version": "3.6.13"
  }
 },
 "nbformat": 4,
 "nbformat_minor": 5
}
