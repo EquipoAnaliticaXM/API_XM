{
 "cells": [
  {
   "cell_type": "markdown",
   "metadata": {},
   "source": [
    "![SIMEM_logo_1.png](../assets/SIMEM_logo_1.png)\n",
    "\n",
    "[SiMEM](https://www.simem.co/)"
   ]
  },
  {
   "cell_type": "markdown",
   "metadata": {},
   "source": [
    "## Objetivos de este Notebook\n",
    "\n",
    "* Explicar cómo se puede consultar el listado de variables disponibles para el uso de la clase VariableSIMEM y sus funciones.\n",
    "* Explicar cómo obtener la descripción estadística de una variable de interés.\n",
    "* Explicar cómo obtener la serie de tiempo de una variable de interés."
   ]
  },
  {
   "cell_type": "markdown",
   "metadata": {},
   "source": [
    "### Carga de la clase VariableSIMEM\n",
    "\n",
    "En la siguiente celda se importa el objeto VariableSIMEM, que contiene las funciones necesarias para cumplir los objetivos anteriormente mencionados."
   ]
  },
  {
   "cell_type": "code",
   "execution_count": 5,
   "metadata": {},
   "outputs": [],
   "source": [
    "import sys\n",
    "import os\n",
    "# !{sys.executable} -m pip install pydataxm\n",
    "# from pydataxm.pydatasimem import VariableSIMEM\n",
    "sys.path.append('../')\n",
    "\n",
    "from variable import VariableSIMEM"
   ]
  },
  {
   "cell_type": "markdown",
   "metadata": {},
   "source": [
    "### Consultar el listado de variables disponibles dentro de la clase\n",
    "\n",
    "En la siguiente celda se muestra como consultar el listado de variables con las que se pueden aprovechar todas las funcionalidades de la clase VariableSIMEM"
   ]
  },
  {
   "cell_type": "code",
   "execution_count": 6,
   "metadata": {},
   "outputs": [
    {
     "data": {
      "text/html": [
       "<div>\n",
       "<style scoped>\n",
       "    .dataframe tbody tr th:only-of-type {\n",
       "        vertical-align: middle;\n",
       "    }\n",
       "\n",
       "    .dataframe tbody tr th {\n",
       "        vertical-align: top;\n",
       "    }\n",
       "\n",
       "    .dataframe thead th {\n",
       "        text-align: right;\n",
       "    }\n",
       "</style>\n",
       "<table border=\"1\" class=\"dataframe\">\n",
       "  <thead>\n",
       "    <tr style=\"text-align: right;\">\n",
       "      <th></th>\n",
       "      <th>CodigoVariable</th>\n",
       "      <th>Nombre</th>\n",
       "    </tr>\n",
       "  </thead>\n",
       "  <tbody>\n",
       "    <tr>\n",
       "      <th>0</th>\n",
       "      <td>PB_Nal</td>\n",
       "      <td>Precio de bolsa nacional</td>\n",
       "    </tr>\n",
       "    <tr>\n",
       "      <th>1</th>\n",
       "      <td>POf_Original</td>\n",
       "      <td>Precio de oferta despacho ideal</td>\n",
       "    </tr>\n",
       "    <tr>\n",
       "      <th>2</th>\n",
       "      <td>PrecioEscasez</td>\n",
       "      <td>Precio de escasez</td>\n",
       "    </tr>\n",
       "    <tr>\n",
       "      <th>3</th>\n",
       "      <td>PrecioEscasezActivacion</td>\n",
       "      <td>Precio de escasez de activación</td>\n",
       "    </tr>\n",
       "    <tr>\n",
       "      <th>4</th>\n",
       "      <td>PrecioMarginalEscasez</td>\n",
       "      <td>Precio marginal de escasez</td>\n",
       "    </tr>\n",
       "  </tbody>\n",
       "</table>\n",
       "</div>"
      ],
      "text/plain": [
       "            CodigoVariable                           Nombre\n",
       "0                   PB_Nal         Precio de bolsa nacional\n",
       "1             POf_Original  Precio de oferta despacho ideal\n",
       "2            PrecioEscasez                Precio de escasez\n",
       "3  PrecioEscasezActivacion  Precio de escasez de activación\n",
       "4    PrecioMarginalEscasez       Precio marginal de escasez"
      ]
     },
     "execution_count": 6,
     "metadata": {},
     "output_type": "execute_result"
    }
   ],
   "source": [
    "lisatado_variables = VariableSIMEM.get_collection()\n",
    "lisatado_variables.head()"
   ]
  },
  {
   "cell_type": "markdown",
   "metadata": {},
   "source": [
    "### Consultar el código de una variable de interés\n",
    "En la siguiente celda se muestra como consultar el código de una variable a través de su nombre"
   ]
  },
  {
   "cell_type": "code",
   "execution_count": 20,
   "metadata": {},
   "outputs": [
    {
     "name": "stdout",
     "output_type": "stream",
     "text": [
      "['PB_Nal']\n"
     ]
    }
   ],
   "source": [
    "nombre_variable = 'Precio de bolsa'\n",
    "cod_variable = lisatado_variables.query(\"Nombre.str.lower().str.contains(@nombre_variable.lower())\")['CodigoVariable'].values\n",
    "print(cod_variable)"
   ]
  },
  {
   "cell_type": "markdown",
   "metadata": {},
   "source": [
    "Una vez obtenido el código de la variable de interés, se debe inicializar una instancia de la clase VariableSIMEM con este y dos fechas de interés, para poder obtener la descripción estadística y la serie de tiempo de la variable."
   ]
  },
  {
   "cell_type": "code",
   "execution_count": null,
   "metadata": {},
   "outputs": [],
   "source": [
    "cod_variable = 'PB_Nal'\n",
    "fecha_inicio = '2024-01-01'\n",
    "fecha_fin = '2024-12-31'"
   ]
  },
  {
   "cell_type": "code",
   "execution_count": 12,
   "metadata": {},
   "outputs": [],
   "source": [
    "variable = VariableSIMEM(cod_variable, fecha_inicio, fecha_fin)"
   ]
  },
  {
   "cell_type": "markdown",
   "metadata": {},
   "source": [
    "### Consultar la descripción estadística de una variable de interés\n",
    "\n",
    "En la siguiente celda se muestra cómo consultar la descripción estadística de una variable de interes entre el rango de fechas solicitado"
   ]
  },
  {
   "cell_type": "code",
   "execution_count": 14,
   "metadata": {},
   "outputs": [],
   "source": [
    "stats = variable.describe_data()"
   ]
  },
  {
   "cell_type": "code",
   "execution_count": 15,
   "metadata": {},
   "outputs": [
    {
     "data": {
      "text/plain": [
       "{'Precio de bolsa nacional': {'mean': 676.3121038251367,\n",
       "  'median': 589.9656,\n",
       "  'std_dev': 468.9853502595795,\n",
       "  'min': 95.8516,\n",
       "  'max': 2675.5368,\n",
       "  'null_count': 0,\n",
       "  'zero_count': 0,\n",
       "  'start_date': '2024-01-01',\n",
       "  'end_date': '2024-12-31',\n",
       "  'granularity': 'Horaria'}}"
      ]
     },
     "execution_count": 15,
     "metadata": {},
     "output_type": "execute_result"
    }
   ],
   "source": [
    "stats"
   ]
  },
  {
   "cell_type": "markdown",
   "metadata": {},
   "source": [
    "### Consultar la serie de tiempo de una variable de interés\n",
    "\n",
    "En la siguiente celda se muestra cómo consultar la serie de tiempo de una variable de interes entre el rango de fechas solicitado. La serie de tiempo se almacenará en la ruta actual, además de abrirse automáticamente en el buscador."
   ]
  },
  {
   "cell_type": "code",
   "execution_count": 18,
   "metadata": {},
   "outputs": [
    {
     "name": "stdout",
     "output_type": "stream",
     "text": [
      "Gráfica guardada como 'time_series_plot.html'\n"
     ]
    }
   ],
   "source": [
    "variable.time_series_data()"
   ]
  },
  {
   "cell_type": "markdown",
   "metadata": {},
   "source": [
    "### Consultar las funciones anteriormente mencionadas al mismo tiempo\n",
    "En la siguiente celda se muestra cómo consultar tanto la descripción estadística como la serie de tiempo en el rango de fechas solicitados."
   ]
  },
  {
   "cell_type": "code",
   "execution_count": 19,
   "metadata": {},
   "outputs": [
    {
     "name": "stdout",
     "output_type": "stream",
     "text": [
      "{'Precio de bolsa nacional': {'end_date': '2024-12-31',\n",
      "                              'granularity': 'Horaria',\n",
      "                              'max': 2675.5368,\n",
      "                              'mean': 676.3121038251367,\n",
      "                              'median': 589.9656,\n",
      "                              'min': 95.8516,\n",
      "                              'null_count': 0,\n",
      "                              'start_date': '2024-01-01',\n",
      "                              'std_dev': 468.9853502595795,\n",
      "                              'zero_count': 0}}\n",
      "Gráfica guardada como 'time_series_plot.html'\n"
     ]
    }
   ],
   "source": [
    "variable.show_info()"
   ]
  }
 ],
 "metadata": {
  "kernelspec": {
   "display_name": ".venv",
   "language": "python",
   "name": "python3"
  },
  "language_info": {
   "codemirror_mode": {
    "name": "ipython",
    "version": 3
   },
   "file_extension": ".py",
   "mimetype": "text/x-python",
   "name": "python",
   "nbconvert_exporter": "python",
   "pygments_lexer": "ipython3",
   "version": "3.12.6"
  }
 },
 "nbformat": 4,
 "nbformat_minor": 2
}
