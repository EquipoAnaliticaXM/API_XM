{
 "cells": [
  {
   "cell_type": "markdown",
   "metadata": {},
   "source": [
    "![SIMEM_logo_1.png](../assets/SIMEM_logo_1.png)\n",
    "\n",
    "[SiMEM](https://www.simem.co/)"
   ]
  },
  {
   "cell_type": "markdown",
   "metadata": {},
   "source": [
    "## Objetivos de este Notebook\n",
    "\n",
    "* Explicar cómo se puede consultar información de una variable predeterminada."
   ]
  },
  {
   "cell_type": "markdown",
   "metadata": {},
   "source": [
    "### Carga de la clase VariableSIMEM\n",
    "\n",
    "En la siguiente celda se importa el objeto VariableSIMEM, que contiene las funciones necesarias para cumplir los objetivos anteriormente mencionados."
   ]
  },
  {
   "cell_type": "code",
   "execution_count": 1,
   "metadata": {},
   "outputs": [],
   "source": [
    "import sys\n",
    "import os\n",
    "# !{sys.executable} -m pip install pydataxm\n",
    "# from pydataxm.pydatasimem import VariableSIMEM\n",
    "sys.path.append('../')\n",
    "\n",
    "from variable import VariableSIMEM"
   ]
  },
  {
   "cell_type": "markdown",
   "metadata": {},
   "source": [
    "### Consultar el listado de variables disponibles dentro de la clase\n",
    "\n",
    "En la siguiente celda se muestra como consultar el listado de variables con el fin de buscar el código de la variable deseada."
   ]
  },
  {
   "cell_type": "code",
   "execution_count": 2,
   "metadata": {},
   "outputs": [
    {
     "data": {
      "text/html": [
       "<div>\n",
       "<style scoped>\n",
       "    .dataframe tbody tr th:only-of-type {\n",
       "        vertical-align: middle;\n",
       "    }\n",
       "\n",
       "    .dataframe tbody tr th {\n",
       "        vertical-align: top;\n",
       "    }\n",
       "\n",
       "    .dataframe thead th {\n",
       "        text-align: right;\n",
       "    }\n",
       "</style>\n",
       "<table border=\"1\" class=\"dataframe\">\n",
       "  <thead>\n",
       "    <tr style=\"text-align: right;\">\n",
       "      <th></th>\n",
       "      <th>CodigoVariable</th>\n",
       "      <th>Nombre</th>\n",
       "    </tr>\n",
       "  </thead>\n",
       "  <tbody>\n",
       "    <tr>\n",
       "      <th>0</th>\n",
       "      <td>PB_Nal</td>\n",
       "      <td>Precio de bolsa nacional</td>\n",
       "    </tr>\n",
       "    <tr>\n",
       "      <th>1</th>\n",
       "      <td>POf_Original</td>\n",
       "      <td>Precio de oferta despacho ideal</td>\n",
       "    </tr>\n",
       "    <tr>\n",
       "      <th>2</th>\n",
       "      <td>PrecioEscasez</td>\n",
       "      <td>Precio de escasez</td>\n",
       "    </tr>\n",
       "    <tr>\n",
       "      <th>3</th>\n",
       "      <td>PrecioEscasezActivacion</td>\n",
       "      <td>Precio de escasez de activación</td>\n",
       "    </tr>\n",
       "    <tr>\n",
       "      <th>4</th>\n",
       "      <td>PrecioMarginalEscasez</td>\n",
       "      <td>Precio marginal de escasez</td>\n",
       "    </tr>\n",
       "  </tbody>\n",
       "</table>\n",
       "</div>"
      ],
      "text/plain": [
       "            CodigoVariable                           Nombre\n",
       "0                   PB_Nal         Precio de bolsa nacional\n",
       "1             POf_Original  Precio de oferta despacho ideal\n",
       "2            PrecioEscasez                Precio de escasez\n",
       "3  PrecioEscasezActivacion  Precio de escasez de activación\n",
       "4    PrecioMarginalEscasez       Precio marginal de escasez"
      ]
     },
     "execution_count": 2,
     "metadata": {},
     "output_type": "execute_result"
    }
   ],
   "source": [
    "lisatado_variables = VariableSIMEM.get_collection()\n",
    "lisatado_variables.head()"
   ]
  },
  {
   "cell_type": "markdown",
   "metadata": {},
   "source": [
    "### Consultar el código de una variable de interés\n",
    "En la siguiente celda se muestra como consultar el código de una variable a través de su nombre"
   ]
  },
  {
   "cell_type": "code",
   "execution_count": 10,
   "metadata": {},
   "outputs": [
    {
     "name": "stdout",
     "output_type": "stream",
     "text": [
      "['PB_Nal' 'POf_Original' 'PrecioEscasez' 'PrecioEscasezActivacion'\n",
      " 'PrecioMarginalEscasez' 'PrecioEscasezPonderado' 'PONE_ExpCol'\n",
      " 'PrecioOfertaArranqueParadaCOP' 'PTB']\n"
     ]
    }
   ],
   "source": [
    "nombre_variable = 'Precio'\n",
    "cod_variable = lisatado_variables.query(\"Nombre.str.lower().str.contains(@nombre_variable.lower())\")['CodigoVariable'].values\n",
    "print(cod_variable)"
   ]
  },
  {
   "cell_type": "markdown",
   "metadata": {},
   "source": [
    "Una vez obtenido el código de la variable de interés, se debe inicializar una instancia de la clase VariableSIMEM con este y dos fechas de interés, para poder obtener la información de la variable."
   ]
  },
  {
   "cell_type": "code",
   "execution_count": 11,
   "metadata": {},
   "outputs": [],
   "source": [
    "cod_variable = 'PrecioEscasez'\n",
    "fecha_inicio = '2024-01-01'\n",
    "fecha_fin = '2024-12-31'\n",
    "\n",
    "variable = VariableSIMEM(cod_variable, fecha_inicio, fecha_fin)"
   ]
  },
  {
   "cell_type": "markdown",
   "metadata": {},
   "source": [
    "### Consultar la información de la variable\n",
    "\n",
    "En este caso se desea con sultar la información del `Precio de Escasez` durante el 2024"
   ]
  },
  {
   "cell_type": "code",
   "execution_count": 13,
   "metadata": {},
   "outputs": [
    {
     "data": {
      "text/html": [
       "<div>\n",
       "<style scoped>\n",
       "    .dataframe tbody tr th:only-of-type {\n",
       "        vertical-align: middle;\n",
       "    }\n",
       "\n",
       "    .dataframe tbody tr th {\n",
       "        vertical-align: top;\n",
       "    }\n",
       "\n",
       "    .dataframe thead th {\n",
       "        text-align: right;\n",
       "    }\n",
       "</style>\n",
       "<table border=\"1\" class=\"dataframe\">\n",
       "  <thead>\n",
       "    <tr style=\"text-align: right;\">\n",
       "      <th></th>\n",
       "      <th>CodigoVariable</th>\n",
       "      <th>CodigoDuracion</th>\n",
       "      <th>Valor</th>\n",
       "    </tr>\n",
       "    <tr>\n",
       "      <th>Fecha</th>\n",
       "      <th></th>\n",
       "      <th></th>\n",
       "      <th></th>\n",
       "    </tr>\n",
       "  </thead>\n",
       "  <tbody>\n",
       "    <tr>\n",
       "      <th>2024-12-01</th>\n",
       "      <td>PrecioEscasez</td>\n",
       "      <td>P1M</td>\n",
       "      <td>798.73</td>\n",
       "    </tr>\n",
       "    <tr>\n",
       "      <th>2024-11-01</th>\n",
       "      <td>PrecioEscasez</td>\n",
       "      <td>P1M</td>\n",
       "      <td>811.93</td>\n",
       "    </tr>\n",
       "    <tr>\n",
       "      <th>2024-10-01</th>\n",
       "      <td>PrecioEscasez</td>\n",
       "      <td>P1M</td>\n",
       "      <td>751.31</td>\n",
       "    </tr>\n",
       "    <tr>\n",
       "      <th>2024-09-01</th>\n",
       "      <td>PrecioEscasez</td>\n",
       "      <td>P1M</td>\n",
       "      <td>785.07</td>\n",
       "    </tr>\n",
       "    <tr>\n",
       "      <th>2024-08-01</th>\n",
       "      <td>PrecioEscasez</td>\n",
       "      <td>P1M</td>\n",
       "      <td>818.38</td>\n",
       "    </tr>\n",
       "    <tr>\n",
       "      <th>2024-07-01</th>\n",
       "      <td>PrecioEscasez</td>\n",
       "      <td>P1M</td>\n",
       "      <td>810.71</td>\n",
       "    </tr>\n",
       "    <tr>\n",
       "      <th>2024-06-01</th>\n",
       "      <td>PrecioEscasez</td>\n",
       "      <td>P1M</td>\n",
       "      <td>766.53</td>\n",
       "    </tr>\n",
       "    <tr>\n",
       "      <th>2024-05-01</th>\n",
       "      <td>PrecioEscasez</td>\n",
       "      <td>P1M</td>\n",
       "      <td>793.30</td>\n",
       "    </tr>\n",
       "    <tr>\n",
       "      <th>2024-04-01</th>\n",
       "      <td>PrecioEscasez</td>\n",
       "      <td>P1M</td>\n",
       "      <td>742.65</td>\n",
       "    </tr>\n",
       "    <tr>\n",
       "      <th>2024-03-01</th>\n",
       "      <td>PrecioEscasez</td>\n",
       "      <td>P1M</td>\n",
       "      <td>727.83</td>\n",
       "    </tr>\n",
       "    <tr>\n",
       "      <th>2024-02-01</th>\n",
       "      <td>PrecioEscasez</td>\n",
       "      <td>P1M</td>\n",
       "      <td>745.69</td>\n",
       "    </tr>\n",
       "    <tr>\n",
       "      <th>2024-01-01</th>\n",
       "      <td>PrecioEscasez</td>\n",
       "      <td>P1M</td>\n",
       "      <td>739.87</td>\n",
       "    </tr>\n",
       "  </tbody>\n",
       "</table>\n",
       "</div>"
      ],
      "text/plain": [
       "           CodigoVariable CodigoDuracion   Valor\n",
       "Fecha                                           \n",
       "2024-12-01  PrecioEscasez            P1M  798.73\n",
       "2024-11-01  PrecioEscasez            P1M  811.93\n",
       "2024-10-01  PrecioEscasez            P1M  751.31\n",
       "2024-09-01  PrecioEscasez            P1M  785.07\n",
       "2024-08-01  PrecioEscasez            P1M  818.38\n",
       "2024-07-01  PrecioEscasez            P1M  810.71\n",
       "2024-06-01  PrecioEscasez            P1M  766.53\n",
       "2024-05-01  PrecioEscasez            P1M  793.30\n",
       "2024-04-01  PrecioEscasez            P1M  742.65\n",
       "2024-03-01  PrecioEscasez            P1M  727.83\n",
       "2024-02-01  PrecioEscasez            P1M  745.69\n",
       "2024-01-01  PrecioEscasez            P1M  739.87"
      ]
     },
     "execution_count": 13,
     "metadata": {},
     "output_type": "execute_result"
    }
   ],
   "source": [
    "data = variable.get_data()\n",
    "data"
   ]
  }
 ],
 "metadata": {
  "kernelspec": {
   "display_name": ".venv",
   "language": "python",
   "name": "python3"
  },
  "language_info": {
   "codemirror_mode": {
    "name": "ipython",
    "version": 3
   },
   "file_extension": ".py",
   "mimetype": "text/x-python",
   "name": "python",
   "nbconvert_exporter": "python",
   "pygments_lexer": "ipython3",
   "version": "3.12.6"
  }
 },
 "nbformat": 4,
 "nbformat_minor": 2
}
