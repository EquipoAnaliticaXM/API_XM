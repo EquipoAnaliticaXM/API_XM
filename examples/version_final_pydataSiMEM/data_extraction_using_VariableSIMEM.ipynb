{
 "cells": [
  {
   "cell_type": "markdown",
   "metadata": {},
   "source": [
    "![SIMEM_logo_1.png](../assets/SIMEM_logo_1.png)\n",
    "\n",
    "[SiMEM](https://www.simem.co/)"
   ]
  },
  {
   "cell_type": "markdown",
   "metadata": {},
   "source": [
    "## Objetivos de este Notebook\n",
    "\n",
    "* Explicar cómo se puede consultar información de una variable predeterminada.\n",
    "\n",
    "## Índice\n",
    "\n",
    "1. [Importación de la clase VariableSIMEM](#importacion-de-la-clase-variablesimem)\n",
    "\n",
    "2. [Consultar el listado de variables disponibles](#consultar-el-listado-de-variables-disponibles-dentro-de-la-clase)\n",
    "\n",
    "3. [Buscar el código de una variable](#buscar-el-codigo-de-una-variable-de-interes)\n",
    "\n",
    "4. [Consultar datos de la variable](#consultar-datos-de-la-variable)\n"
   ]
  },
  {
   "cell_type": "markdown",
   "metadata": {},
   "source": [
    "### Importacion de la clase VariableSIMEM\n",
    "\n",
    "En la siguiente celda se importa el objeto VariableSIMEM, que contiene las funciones necesarias para cumplir los objetivos anteriormente mencionados."
   ]
  },
  {
   "cell_type": "code",
   "execution_count": 7,
   "metadata": {},
   "outputs": [],
   "source": [
    "import sys\n",
    "\n",
    "# !{sys.executable} -m pip install pydataxm    # Instala la librería pydatasimem.\n",
    "from pydataxm.pydatasimem import VariableSIMEM # Importa la libreria que fue instalada con pip install pydataxm"
   ]
  },
  {
   "cell_type": "markdown",
   "metadata": {},
   "source": [
    "### Consultar el listado de variables disponibles dentro de la clase\n",
    "\n",
    "En la siguiente celda se muestra como consultar el listado de variables con el fin de buscar el código de la variable deseada."
   ]
  },
  {
   "cell_type": "code",
   "execution_count": 8,
   "metadata": {},
   "outputs": [
    {
     "data": {
      "application/vnd.microsoft.datawrangler.viewer.v0+json": {
       "columns": [
        {
         "name": "index",
         "rawType": "int64",
         "type": "integer"
        },
        {
         "name": "CodigoVariable",
         "rawType": "object",
         "type": "string"
        },
        {
         "name": "Nombre",
         "rawType": "object",
         "type": "string"
        }
       ],
       "ref": "a958f63e-ab00-4295-9595-5e0bebf22af9",
       "rows": [
        [
         "0",
         "AportesHidricosMasa",
         "Aportes hídricos de las series hidrológicas"
        ],
        [
         "1",
         "AportesHidricosMasaPSS95",
         "Aportes hídricos para un 95% de Probabilidad de Ser Superado (PSS)"
        ],
        [
         "2",
         "CantidadVentasContratosSICEP",
         "Cantidad ventas en contratos del SICEP"
        ],
        [
         "3",
         "CapacidadUtilMasa",
         "Capacidad útil del embalse"
        ],
        [
         "4",
         "CargoMonomio",
         "Cargos por uso"
        ]
       ],
       "shape": {
        "columns": 2,
        "rows": 5
       }
      },
      "text/html": [
       "<div>\n",
       "<style scoped>\n",
       "    .dataframe tbody tr th:only-of-type {\n",
       "        vertical-align: middle;\n",
       "    }\n",
       "\n",
       "    .dataframe tbody tr th {\n",
       "        vertical-align: top;\n",
       "    }\n",
       "\n",
       "    .dataframe thead th {\n",
       "        text-align: right;\n",
       "    }\n",
       "</style>\n",
       "<table border=\"1\" class=\"dataframe\">\n",
       "  <thead>\n",
       "    <tr style=\"text-align: right;\">\n",
       "      <th></th>\n",
       "      <th>CodigoVariable</th>\n",
       "      <th>Nombre</th>\n",
       "    </tr>\n",
       "  </thead>\n",
       "  <tbody>\n",
       "    <tr>\n",
       "      <th>0</th>\n",
       "      <td>AportesHidricosMasa</td>\n",
       "      <td>Aportes hídricos de las series hidrológicas</td>\n",
       "    </tr>\n",
       "    <tr>\n",
       "      <th>1</th>\n",
       "      <td>AportesHidricosMasaPSS95</td>\n",
       "      <td>Aportes hídricos para un 95% de Probabilidad d...</td>\n",
       "    </tr>\n",
       "    <tr>\n",
       "      <th>2</th>\n",
       "      <td>CantidadVentasContratosSICEP</td>\n",
       "      <td>Cantidad ventas en contratos del SICEP</td>\n",
       "    </tr>\n",
       "    <tr>\n",
       "      <th>3</th>\n",
       "      <td>CapacidadUtilMasa</td>\n",
       "      <td>Capacidad útil del embalse</td>\n",
       "    </tr>\n",
       "    <tr>\n",
       "      <th>4</th>\n",
       "      <td>CargoMonomio</td>\n",
       "      <td>Cargos por uso</td>\n",
       "    </tr>\n",
       "  </tbody>\n",
       "</table>\n",
       "</div>"
      ],
      "text/plain": [
       "                 CodigoVariable  \\\n",
       "0           AportesHidricosMasa   \n",
       "1      AportesHidricosMasaPSS95   \n",
       "2  CantidadVentasContratosSICEP   \n",
       "3             CapacidadUtilMasa   \n",
       "4                  CargoMonomio   \n",
       "\n",
       "                                              Nombre  \n",
       "0        Aportes hídricos de las series hidrológicas  \n",
       "1  Aportes hídricos para un 95% de Probabilidad d...  \n",
       "2             Cantidad ventas en contratos del SICEP  \n",
       "3                         Capacidad útil del embalse  \n",
       "4                                     Cargos por uso  "
      ]
     },
     "execution_count": 8,
     "metadata": {},
     "output_type": "execute_result"
    }
   ],
   "source": [
    "lisatado_variables = VariableSIMEM.get_collection() # Obtiene el listado de variables que se pueden usar dentro de VariableSIMEM\n",
    "lisatado_variables.head()                           # Imprime los primeros 5 registros del listado de variables"
   ]
  },
  {
   "cell_type": "markdown",
   "metadata": {},
   "source": [
    "### Buscar el codigo de una variable de interes\n",
    "\n",
    "En la siguiente celda se muestra como consultar el código de una variable a través de su nombre"
   ]
  },
  {
   "cell_type": "code",
   "execution_count": 9,
   "metadata": {},
   "outputs": [
    {
     "name": "stdout",
     "output_type": "stream",
     "text": [
      "['MPO_Int' 'MPO_Nal' 'PAR_Ofertado' 'PB_Int' 'PB_Nal' 'PB_Tie'\n",
      " 'POf_Original' 'PONE_ExpCol' 'PrecioEscasez' 'PrecioEscasezActivacion'\n",
      " 'PrecioEscasezPonderado' 'PrecioMarginalEscasez'\n",
      " 'PrecioOfertaArranqueParadaCOP' 'PTB']\n"
     ]
    }
   ],
   "source": [
    "nombre_variable = 'Precio' # Nombre de la variable que se desea buscar\n",
    "cod_variable = lisatado_variables.query(\"Nombre.str.lower().str.contains(@nombre_variable.lower())\")['CodigoVariable'].values # Busca el nombre dentro del listado de variables\n",
    "print(cod_variable)        # Imprime los códigos de las variables que coinciden con el nombre"
   ]
  },
  {
   "cell_type": "markdown",
   "metadata": {},
   "source": [
    "Una vez obtenido el código de la variable de interés, se debe inicializar una instancia de la clase VariableSIMEM con este y dos fechas de interés, para poder obtener la información de la variable."
   ]
  },
  {
   "cell_type": "code",
   "execution_count": null,
   "metadata": {},
   "outputs": [],
   "source": [
    "cod_variable = 'PrecioEscasez' # Código de la variable deseada\n",
    "fecha_inicio = '2024-01-01'    # Fecha inicial de los datos\n",
    "fecha_fin = '2024-12-31'       # Fecha final de los datos\n",
    "\n",
    "variable = VariableSIMEM(cod_variable, fecha_inicio, fecha_fin) # Se inicializa el objeto VariableSIMEM"
   ]
  },
  {
   "cell_type": "markdown",
   "metadata": {},
   "source": [
    "### Consultar datos de la variable\n",
    "\n",
    "En este caso se desea con sultar la información del `Precio de Escasez` durante el 2024"
   ]
  },
  {
   "cell_type": "code",
   "execution_count": 11,
   "metadata": {},
   "outputs": [
    {
     "name": "stdout",
     "output_type": "stream",
     "text": [
      "****************************************************************************************************\n",
      "Initializing object\n",
      "The object has been initialized with the dataset: \"Precios de escasez del Cargo por Confiabilidad\"\n",
      "****************************************************************************************************\n",
      "Inicio consulta sincronica\n",
      "Creacion url: 0.0010058879852294922\n",
      "Extraccion de registros: 3.204993963241577\n",
      "End of data extracting process\n",
      "****************************************************************************************************\n"
     ]
    },
    {
     "data": {
      "application/vnd.microsoft.datawrangler.viewer.v0+json": {
       "columns": [
        {
         "name": "Fecha",
         "rawType": "object",
         "type": "string"
        },
        {
         "name": "CodigoVariable",
         "rawType": "object",
         "type": "string"
        },
        {
         "name": "CodigoDuracion",
         "rawType": "object",
         "type": "string"
        },
        {
         "name": "Valor",
         "rawType": "float64",
         "type": "float"
        }
       ],
       "ref": "b841f00b-23d1-4e7e-ac0b-bb292ced0b7e",
       "rows": [
        [
         "2024-12-01",
         "PrecioEscasez",
         "P1M",
         "798.7259"
        ],
        [
         "2024-11-01",
         "PrecioEscasez",
         "P1M",
         "811.9274"
        ],
        [
         "2024-10-01",
         "PrecioEscasez",
         "P1M",
         "751.3103"
        ],
        [
         "2024-09-01",
         "PrecioEscasez",
         "P1M",
         "785.0686"
        ],
        [
         "2024-08-01",
         "PrecioEscasez",
         "P1M",
         "818.3814"
        ],
        [
         "2024-07-01",
         "PrecioEscasez",
         "P1M",
         "810.7083"
        ],
        [
         "2024-06-01",
         "PrecioEscasez",
         "P1M",
         "766.5341"
        ],
        [
         "2024-05-01",
         "PrecioEscasez",
         "P1M",
         "793.3028"
        ],
        [
         "2024-04-01",
         "PrecioEscasez",
         "P1M",
         "742.6505"
        ],
        [
         "2024-03-01",
         "PrecioEscasez",
         "P1M",
         "727.8256"
        ],
        [
         "2024-02-01",
         "PrecioEscasez",
         "P1M",
         "745.6851"
        ],
        [
         "2024-01-01",
         "PrecioEscasez",
         "P1M",
         "739.8685"
        ]
       ],
       "shape": {
        "columns": 3,
        "rows": 12
       }
      },
      "text/html": [
       "<div>\n",
       "<style scoped>\n",
       "    .dataframe tbody tr th:only-of-type {\n",
       "        vertical-align: middle;\n",
       "    }\n",
       "\n",
       "    .dataframe tbody tr th {\n",
       "        vertical-align: top;\n",
       "    }\n",
       "\n",
       "    .dataframe thead th {\n",
       "        text-align: right;\n",
       "    }\n",
       "</style>\n",
       "<table border=\"1\" class=\"dataframe\">\n",
       "  <thead>\n",
       "    <tr style=\"text-align: right;\">\n",
       "      <th></th>\n",
       "      <th>CodigoVariable</th>\n",
       "      <th>CodigoDuracion</th>\n",
       "      <th>Valor</th>\n",
       "    </tr>\n",
       "    <tr>\n",
       "      <th>Fecha</th>\n",
       "      <th></th>\n",
       "      <th></th>\n",
       "      <th></th>\n",
       "    </tr>\n",
       "  </thead>\n",
       "  <tbody>\n",
       "    <tr>\n",
       "      <th>2024-12-01</th>\n",
       "      <td>PrecioEscasez</td>\n",
       "      <td>P1M</td>\n",
       "      <td>798.7259</td>\n",
       "    </tr>\n",
       "    <tr>\n",
       "      <th>2024-11-01</th>\n",
       "      <td>PrecioEscasez</td>\n",
       "      <td>P1M</td>\n",
       "      <td>811.9274</td>\n",
       "    </tr>\n",
       "    <tr>\n",
       "      <th>2024-10-01</th>\n",
       "      <td>PrecioEscasez</td>\n",
       "      <td>P1M</td>\n",
       "      <td>751.3103</td>\n",
       "    </tr>\n",
       "    <tr>\n",
       "      <th>2024-09-01</th>\n",
       "      <td>PrecioEscasez</td>\n",
       "      <td>P1M</td>\n",
       "      <td>785.0686</td>\n",
       "    </tr>\n",
       "    <tr>\n",
       "      <th>2024-08-01</th>\n",
       "      <td>PrecioEscasez</td>\n",
       "      <td>P1M</td>\n",
       "      <td>818.3814</td>\n",
       "    </tr>\n",
       "    <tr>\n",
       "      <th>2024-07-01</th>\n",
       "      <td>PrecioEscasez</td>\n",
       "      <td>P1M</td>\n",
       "      <td>810.7083</td>\n",
       "    </tr>\n",
       "    <tr>\n",
       "      <th>2024-06-01</th>\n",
       "      <td>PrecioEscasez</td>\n",
       "      <td>P1M</td>\n",
       "      <td>766.5341</td>\n",
       "    </tr>\n",
       "    <tr>\n",
       "      <th>2024-05-01</th>\n",
       "      <td>PrecioEscasez</td>\n",
       "      <td>P1M</td>\n",
       "      <td>793.3028</td>\n",
       "    </tr>\n",
       "    <tr>\n",
       "      <th>2024-04-01</th>\n",
       "      <td>PrecioEscasez</td>\n",
       "      <td>P1M</td>\n",
       "      <td>742.6505</td>\n",
       "    </tr>\n",
       "    <tr>\n",
       "      <th>2024-03-01</th>\n",
       "      <td>PrecioEscasez</td>\n",
       "      <td>P1M</td>\n",
       "      <td>727.8256</td>\n",
       "    </tr>\n",
       "    <tr>\n",
       "      <th>2024-02-01</th>\n",
       "      <td>PrecioEscasez</td>\n",
       "      <td>P1M</td>\n",
       "      <td>745.6851</td>\n",
       "    </tr>\n",
       "    <tr>\n",
       "      <th>2024-01-01</th>\n",
       "      <td>PrecioEscasez</td>\n",
       "      <td>P1M</td>\n",
       "      <td>739.8685</td>\n",
       "    </tr>\n",
       "  </tbody>\n",
       "</table>\n",
       "</div>"
      ],
      "text/plain": [
       "           CodigoVariable CodigoDuracion     Valor\n",
       "Fecha                                             \n",
       "2024-12-01  PrecioEscasez            P1M  798.7259\n",
       "2024-11-01  PrecioEscasez            P1M  811.9274\n",
       "2024-10-01  PrecioEscasez            P1M  751.3103\n",
       "2024-09-01  PrecioEscasez            P1M  785.0686\n",
       "2024-08-01  PrecioEscasez            P1M  818.3814\n",
       "2024-07-01  PrecioEscasez            P1M  810.7083\n",
       "2024-06-01  PrecioEscasez            P1M  766.5341\n",
       "2024-05-01  PrecioEscasez            P1M  793.3028\n",
       "2024-04-01  PrecioEscasez            P1M  742.6505\n",
       "2024-03-01  PrecioEscasez            P1M  727.8256\n",
       "2024-02-01  PrecioEscasez            P1M  745.6851\n",
       "2024-01-01  PrecioEscasez            P1M  739.8685"
      ]
     },
     "execution_count": 11,
     "metadata": {},
     "output_type": "execute_result"
    }
   ],
   "source": [
    "data = variable.get_data() # Obtiene los datos de la variable\n",
    "data"
   ]
  }
 ],
 "metadata": {
  "kernelspec": {
   "display_name": ".venv",
   "language": "python",
   "name": "python3"
  },
  "language_info": {
   "codemirror_mode": {
    "name": "ipython",
    "version": 3
   },
   "file_extension": ".py",
   "mimetype": "text/x-python",
   "name": "python",
   "nbconvert_exporter": "python",
   "pygments_lexer": "ipython3",
   "version": "3.12.7"
  }
 },
 "nbformat": 4,
 "nbformat_minor": 2
}
