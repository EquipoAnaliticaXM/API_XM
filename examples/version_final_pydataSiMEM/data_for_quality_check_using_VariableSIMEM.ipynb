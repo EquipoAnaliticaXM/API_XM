{
 "cells": [
  {
   "cell_type": "markdown",
   "metadata": {},
   "source": [
    "![SIMEM_logo_1.png](../assets/SIMEM_logo_1.png)\n",
    "\n",
    "[SiMEM](https://www.simem.co/)"
   ]
  },
  {
   "cell_type": "markdown",
   "metadata": {},
   "source": [
    "## Objetivos de este Notebook\n",
    "\n",
    "* Explicar cómo se puede consultar información de una variable con el formato para el chequeo de calidad."
   ]
  },
  {
   "cell_type": "markdown",
   "metadata": {},
   "source": [
    "### Carga de la clase VariableSIMEM\n",
    "\n",
    "En la siguiente celda se importa el objeto VariableSIMEM, que contiene las funciones necesarias para cumplir los objetivos anteriormente mencionados."
   ]
  },
  {
   "cell_type": "code",
   "execution_count": 1,
   "metadata": {},
   "outputs": [],
   "source": [
    "import sys\n",
    "import os\n",
    "# !{sys.executable} -m pip install pydataxm\n",
    "# from pydataxm.pydatasimem import VariableSIMEM\n",
    "sys.path.append('../src')\n",
    "\n",
    "from pydatasimem import VariableSIMEM"
   ]
  },
  {
   "cell_type": "markdown",
   "metadata": {},
   "source": [
    "### Consultar el listado de variables disponibles dentro de la clase\n",
    "\n",
    "En la siguiente celda se muestra como consultar el listado de variables con el fin de buscar el código de la variable deseada."
   ]
  },
  {
   "cell_type": "code",
   "execution_count": 2,
   "metadata": {},
   "outputs": [
    {
     "ename": "AttributeError",
     "evalue": "type object 'VariableSIMEM' has no attribute '_read_vars'",
     "output_type": "error",
     "traceback": [
      "\u001b[1;31m---------------------------------------------------------------------------\u001b[0m",
      "\u001b[1;31mAttributeError\u001b[0m                            Traceback (most recent call last)",
      "Cell \u001b[1;32mIn[2], line 1\u001b[0m\n\u001b[1;32m----> 1\u001b[0m lisatado_variables \u001b[38;5;241m=\u001b[39m \u001b[43mVariableSIMEM\u001b[49m\u001b[38;5;241;43m.\u001b[39;49m\u001b[43mget_collection\u001b[49m\u001b[43m(\u001b[49m\u001b[43m)\u001b[49m\n\u001b[0;32m      2\u001b[0m lisatado_variables\u001b[38;5;241m.\u001b[39mhead()\n",
      "File \u001b[1;32md:\\Repositories\\RP-GEDeN-SIMEM-Tools\\examples\\../src\\pydatasimem.py:716\u001b[0m, in \u001b[0;36mVariableSIMEM.get_collection\u001b[1;34m()\u001b[0m\n\u001b[0;32m    706\u001b[0m \u001b[38;5;129m@staticmethod\u001b[39m\n\u001b[0;32m    707\u001b[0m \u001b[38;5;28;01mdef\u001b[39;00m \u001b[38;5;21mget_collection\u001b[39m():\n\u001b[0;32m    708\u001b[0m \u001b[38;5;250m    \u001b[39m\u001b[38;5;124;03m\"\"\"\u001b[39;00m\n\u001b[0;32m    709\u001b[0m \u001b[38;5;124;03m    Return a dataframe with the list of available variables.\u001b[39;00m\n\u001b[0;32m    710\u001b[0m \u001b[38;5;124;03m    \u001b[39;00m\n\u001b[1;32m   (...)\u001b[0m\n\u001b[0;32m    713\u001b[0m \u001b[38;5;124;03m            Contains the list of available variables.\u001b[39;00m\n\u001b[0;32m    714\u001b[0m \u001b[38;5;124;03m    \"\"\"\u001b[39;00m\n\u001b[1;32m--> 716\u001b[0m     json_file \u001b[38;5;241m=\u001b[39m \u001b[43mVariableSIMEM\u001b[49m\u001b[38;5;241;43m.\u001b[39;49m\u001b[43m_read_vars\u001b[49m()\n\u001b[0;32m    717\u001b[0m     \u001b[38;5;28;01mreturn\u001b[39;00m pd\u001b[38;5;241m.\u001b[39mDataFrame\u001b[38;5;241m.\u001b[39mfrom_dict(json_file, orient\u001b[38;5;241m=\u001b[39m\u001b[38;5;124m'\u001b[39m\u001b[38;5;124mindex\u001b[39m\u001b[38;5;124m'\u001b[39m, columns\u001b[38;5;241m=\u001b[39m[\u001b[38;5;124m'\u001b[39m\u001b[38;5;124mname\u001b[39m\u001b[38;5;124m'\u001b[39m])\u001b[38;5;241m.\u001b[39mreset_index()\u001b[38;5;241m.\u001b[39mrename(columns\u001b[38;5;241m=\u001b[39m{\u001b[38;5;124m'\u001b[39m\u001b[38;5;124mindex\u001b[39m\u001b[38;5;124m'\u001b[39m: \u001b[38;5;124m'\u001b[39m\u001b[38;5;124mCodigoVariable\u001b[39m\u001b[38;5;124m'\u001b[39m, \u001b[38;5;124m'\u001b[39m\u001b[38;5;124mname\u001b[39m\u001b[38;5;124m'\u001b[39m: \u001b[38;5;124m'\u001b[39m\u001b[38;5;124mNombre\u001b[39m\u001b[38;5;124m'\u001b[39m})\n",
      "\u001b[1;31mAttributeError\u001b[0m: type object 'VariableSIMEM' has no attribute '_read_vars'"
     ]
    }
   ],
   "source": [
    "lisatado_variables = VariableSIMEM.get_collection()\n",
    "lisatado_variables.head()"
   ]
  },
  {
   "cell_type": "markdown",
   "metadata": {},
   "source": [
    "### Consultar el código de una variable de interés\n",
    "En la siguiente celda se muestra como consultar el código de una variable a través de su nombre"
   ]
  },
  {
   "cell_type": "code",
   "execution_count": 11,
   "metadata": {},
   "outputs": [
    {
     "name": "stdout",
     "output_type": "stream",
     "text": [
      "['DispReal' 'DispCom']\n"
     ]
    }
   ],
   "source": [
    "nombre_variable = 'Disponibilidad'\n",
    "cod_variable = lisatado_variables.query(\"Nombre.str.lower().str.contains(@nombre_variable.lower())\")['CodigoVariable'].values\n",
    "print(cod_variable)"
   ]
  },
  {
   "cell_type": "markdown",
   "metadata": {},
   "source": [
    "Una vez obtenido el código de la variable de interés, se debe inicializar una instancia de la clase VariableSIMEM con este y dos fechas de interés, para poder obtener la información de la variable con el formato de calidad, se debe agregar el parámetro `quality_check` con el valor `True`."
   ]
  },
  {
   "cell_type": "code",
   "execution_count": 12,
   "metadata": {},
   "outputs": [],
   "source": [
    "cod_variable = 'DispReal'\n",
    "fecha_inicio = '2024-10-01'\n",
    "fecha_fin = '2024-12-31'\n",
    "\n",
    "variable_quality_check = VariableSIMEM(cod_variable, fecha_inicio, fecha_fin, quality_check=True)"
   ]
  },
  {
   "cell_type": "markdown",
   "metadata": {},
   "source": [
    "### Consultar la información de la variable\n",
    "\n",
    "En este caso se desea con sultar la información de la `Disponibilidad real` durante el último trimestre de 2024 con el formato de chequeo para calidad."
   ]
  },
  {
   "cell_type": "code",
   "execution_count": 13,
   "metadata": {},
   "outputs": [
    {
     "data": {
      "text/html": [
       "<div>\n",
       "<style scoped>\n",
       "    .dataframe tbody tr th:only-of-type {\n",
       "        vertical-align: middle;\n",
       "    }\n",
       "\n",
       "    .dataframe tbody tr th {\n",
       "        vertical-align: top;\n",
       "    }\n",
       "\n",
       "    .dataframe thead th {\n",
       "        text-align: right;\n",
       "    }\n",
       "</style>\n",
       "<table border=\"1\" class=\"dataframe\">\n",
       "  <thead>\n",
       "    <tr style=\"text-align: right;\">\n",
       "      <th></th>\n",
       "      <th>fecha</th>\n",
       "      <th>codigoMaestra</th>\n",
       "      <th>codigoVariable</th>\n",
       "      <th>maestra</th>\n",
       "      <th>valor</th>\n",
       "    </tr>\n",
       "  </thead>\n",
       "  <tbody>\n",
       "    <tr>\n",
       "      <th>0</th>\n",
       "      <td>2024-10-31 03:00:00</td>\n",
       "      <td>2S9Q</td>\n",
       "      <td>DispReal</td>\n",
       "      <td>Unidad Generacion</td>\n",
       "      <td>0.0000</td>\n",
       "    </tr>\n",
       "    <tr>\n",
       "      <th>1</th>\n",
       "      <td>2024-10-31 02:00:00</td>\n",
       "      <td>2S9Q</td>\n",
       "      <td>DispReal</td>\n",
       "      <td>Unidad Generacion</td>\n",
       "      <td>0.0000</td>\n",
       "    </tr>\n",
       "    <tr>\n",
       "      <th>2</th>\n",
       "      <td>2024-10-31 01:00:00</td>\n",
       "      <td>2S9Q</td>\n",
       "      <td>DispReal</td>\n",
       "      <td>Unidad Generacion</td>\n",
       "      <td>0.0000</td>\n",
       "    </tr>\n",
       "    <tr>\n",
       "      <th>3</th>\n",
       "      <td>2024-10-31 00:00:00</td>\n",
       "      <td>2S9Q</td>\n",
       "      <td>DispReal</td>\n",
       "      <td>Unidad Generacion</td>\n",
       "      <td>0.0000</td>\n",
       "    </tr>\n",
       "    <tr>\n",
       "      <th>4</th>\n",
       "      <td>2024-10-31 23:00:00</td>\n",
       "      <td>3EBN</td>\n",
       "      <td>DispReal</td>\n",
       "      <td>Unidad Generacion</td>\n",
       "      <td>0.0000</td>\n",
       "    </tr>\n",
       "    <tr>\n",
       "      <th>...</th>\n",
       "      <td>...</td>\n",
       "      <td>...</td>\n",
       "      <td>...</td>\n",
       "      <td>...</td>\n",
       "      <td>...</td>\n",
       "    </tr>\n",
       "    <tr>\n",
       "      <th>814459</th>\n",
       "      <td>2024-12-02 13:00:00</td>\n",
       "      <td>2YB9</td>\n",
       "      <td>DispReal</td>\n",
       "      <td>Unidad Generacion</td>\n",
       "      <td>1930.8700</td>\n",
       "    </tr>\n",
       "    <tr>\n",
       "      <th>814460</th>\n",
       "      <td>2024-12-02 12:00:00</td>\n",
       "      <td>2YB9</td>\n",
       "      <td>DispReal</td>\n",
       "      <td>Unidad Generacion</td>\n",
       "      <td>1943.6700</td>\n",
       "    </tr>\n",
       "    <tr>\n",
       "      <th>814461</th>\n",
       "      <td>2024-12-02 11:00:00</td>\n",
       "      <td>2YB9</td>\n",
       "      <td>DispReal</td>\n",
       "      <td>Unidad Generacion</td>\n",
       "      <td>2722.5500</td>\n",
       "    </tr>\n",
       "    <tr>\n",
       "      <th>814462</th>\n",
       "      <td>2024-12-02 10:00:00</td>\n",
       "      <td>2YB9</td>\n",
       "      <td>DispReal</td>\n",
       "      <td>Unidad Generacion</td>\n",
       "      <td>3301.4200</td>\n",
       "    </tr>\n",
       "    <tr>\n",
       "      <th>814463</th>\n",
       "      <td>2024-12-02 09:00:00</td>\n",
       "      <td>2YB9</td>\n",
       "      <td>DispReal</td>\n",
       "      <td>Unidad Generacion</td>\n",
       "      <td>2745.2500</td>\n",
       "    </tr>\n",
       "  </tbody>\n",
       "</table>\n",
       "<p>814464 rows × 5 columns</p>\n",
       "</div>"
      ],
      "text/plain": [
       "                      fecha codigoMaestra codigoVariable            maestra  \\\n",
       "0       2024-10-31 03:00:00          2S9Q       DispReal  Unidad Generacion   \n",
       "1       2024-10-31 02:00:00          2S9Q       DispReal  Unidad Generacion   \n",
       "2       2024-10-31 01:00:00          2S9Q       DispReal  Unidad Generacion   \n",
       "3       2024-10-31 00:00:00          2S9Q       DispReal  Unidad Generacion   \n",
       "4       2024-10-31 23:00:00          3EBN       DispReal  Unidad Generacion   \n",
       "...                     ...           ...            ...                ...   \n",
       "814459  2024-12-02 13:00:00          2YB9       DispReal  Unidad Generacion   \n",
       "814460  2024-12-02 12:00:00          2YB9       DispReal  Unidad Generacion   \n",
       "814461  2024-12-02 11:00:00          2YB9       DispReal  Unidad Generacion   \n",
       "814462  2024-12-02 10:00:00          2YB9       DispReal  Unidad Generacion   \n",
       "814463  2024-12-02 09:00:00          2YB9       DispReal  Unidad Generacion   \n",
       "\n",
       "            valor  \n",
       "0          0.0000  \n",
       "1          0.0000  \n",
       "2          0.0000  \n",
       "3          0.0000  \n",
       "4          0.0000  \n",
       "...           ...  \n",
       "814459  1930.8700  \n",
       "814460  1943.6700  \n",
       "814461  2722.5500  \n",
       "814462  3301.4200  \n",
       "814463  2745.2500  \n",
       "\n",
       "[814464 rows x 5 columns]"
      ]
     },
     "execution_count": 13,
     "metadata": {},
     "output_type": "execute_result"
    }
   ],
   "source": [
    "data_quality_check = variable_quality_check.get_data()\n",
    "data_quality_check"
   ]
  }
 ],
 "metadata": {
  "kernelspec": {
   "display_name": ".venv",
   "language": "python",
   "name": "python3"
  },
  "language_info": {
   "codemirror_mode": {
    "name": "ipython",
    "version": 3
   },
   "file_extension": ".py",
   "mimetype": "text/x-python",
   "name": "python",
   "nbconvert_exporter": "python",
   "pygments_lexer": "ipython3",
   "version": "3.11.9"
  }
 },
 "nbformat": 4,
 "nbformat_minor": 2
}
