{
 "cells": [
  {
   "attachments": {
    "SIMEM_logo_1.png": {
     "image/png": "[encoded data removed]"
    }
   },
   "cell_type": "markdown",
   "metadata": {},
   "source": [
    "![SIMEM_logo_1.png](attachment:SIMEM_logo_1.png)\n",
    "\n",
    "[SiMEM](https://www.simem.co/)"
   ]
  },
  {
   "cell_type": "markdown",
   "metadata": {},
   "source": [
    "## Objetivos de este Notebook\n",
    "\n",
    "* Explicar cómo se puede consultar el catálogo de conjuntos de datos que se publican en SiMEM.\n",
    "* Explicar cómo consultar la información de un conjunto de datos determinado.\n",
    "* Demostrar cómo hacer filtros especializados en un conjunto de datos determinado."
   ]
  },
  {
   "cell_type": "markdown",
   "metadata": {},
   "source": [
    "### Carga del simem PyDataSimem"
   ]
  },
  {
   "cell_type": "markdown",
   "metadata": {},
   "source": [
    "En la siguiente celda se importa el objeto PyDataSimem, que contiene el método para consultar los conjuntos de datos de SiMEM. Si la librería no se encuentra instalada en el ambiente, se puede utilizar el código comentado en la celda para realizar la instalación. "
   ]
  },
  {
   "cell_type": "code",
   "execution_count": 1,
   "metadata": {},
   "outputs": [],
   "source": [
    "import sys\n",
    "import os\n",
    "# !{sys.executable} -m pip install pydataxm\n",
    "from pydataxm.pydatasimem import ReadSIMEM, CatalogSIMEM"
   ]
  },
  {
   "cell_type": "markdown",
   "metadata": {},
   "source": [
    "### Importacion de librerías"
   ]
  },
  {
   "cell_type": "code",
   "execution_count": 2,
   "metadata": {},
   "outputs": [
    {
     "name": "stderr",
     "output_type": "stream",
     "text": [
      "Matplotlib is building the font cache; this may take a moment.\n"
     ]
    }
   ],
   "source": [
    "import pandas as pd\n",
    "import matplotlib.pyplot as plt\n",
    "import matplotlib.dates as mpl_dates"
   ]
  },
  {
   "cell_type": "markdown",
   "metadata": {},
   "source": [
    "### Obtener el catálogo de conjuntos de datos"
   ]
  },
  {
   "cell_type": "markdown",
   "metadata": {},
   "source": [
    "El catálogo de conjuntos de datos de SiMEM también es un conjunto de datos, con DatasetID 'e007fb'.\n",
    "\n",
    "Utilizando el objeto de catálogo de la librería se puede consultar toda la información necesaria. Solo es necesario inicializarlo y tendrá toda la información en los atributos del objeto."
   ]
  },
  {
   "cell_type": "code",
   "execution_count": 5,
   "metadata": {},
   "outputs": [],
   "source": [
    "catalogo = CatalogSIMEM(catalog_type='Datasets')"
   ]
  },
  {
   "cell_type": "code",
   "execution_count": 6,
   "metadata": {},
   "outputs": [
    {
     "data": {
      "text/html": [
       "<div>\n",
       "<style scoped>\n",
       "    .dataframe tbody tr th:only-of-type {\n",
       "        vertical-align: middle;\n",
       "    }\n",
       "\n",
       "    .dataframe tbody tr th {\n",
       "        vertical-align: top;\n",
       "    }\n",
       "\n",
       "    .dataframe thead th {\n",
       "        text-align: right;\n",
       "    }\n",
       "</style>\n",
       "<table border=\"1\" class=\"dataframe\">\n",
       "  <thead>\n",
       "    <tr style=\"text-align: right;\">\n",
       "      <th></th>\n",
       "      <th>idDataset</th>\n",
       "      <th>nombreConjuntoDatos</th>\n",
       "      <th>fechaPublicacion</th>\n",
       "      <th>fechaActualizacion</th>\n",
       "      <th>inicioDato</th>\n",
       "      <th>finDato</th>\n",
       "      <th>fechaDescarga</th>\n",
       "      <th>urlConexionAPI</th>\n",
       "      <th>urlConjuntoDatos</th>\n",
       "      <th>tipoPublicacion</th>\n",
       "    </tr>\n",
       "  </thead>\n",
       "  <tbody>\n",
       "    <tr>\n",
       "      <th>0</th>\n",
       "      <td>ADE905</td>\n",
       "      <td>Panorama energético Corto Plazo Generación</td>\n",
       "      <td>2023-11-28T12:07:03.03</td>\n",
       "      <td>2024-09-10T13:42:48.23</td>\n",
       "      <td>2023-10-02T00:00:00</td>\n",
       "      <td>2024-09-08T00:00:00</td>\n",
       "      <td>2024-09-17T13:59:29.887</td>\n",
       "      <td>https://www.simem.co/backend-files/api/PublicD...</td>\n",
       "      <td>https://www.simem.co/datadetail/ade905f7-cb05-...</td>\n",
       "      <td>Público</td>\n",
       "    </tr>\n",
       "    <tr>\n",
       "      <th>1</th>\n",
       "      <td>a704ee</td>\n",
       "      <td>Datos soporte del proceso de liquidación por C...</td>\n",
       "      <td>2023-09-28T21:28:06.433</td>\n",
       "      <td>2024-11-14T11:21:27.3</td>\n",
       "      <td>2017-12-01T00:00:00</td>\n",
       "      <td>2024-10-01T00:00:00</td>\n",
       "      <td>2024-10-17T14:26:04.333</td>\n",
       "      <td>https://www.simem.co/backend-files/api/PublicD...</td>\n",
       "      <td>https://www.simem.co/datadetail/a704eef3-ca1c-...</td>\n",
       "      <td>Público</td>\n",
       "    </tr>\n",
       "    <tr>\n",
       "      <th>2</th>\n",
       "      <td>d808d4</td>\n",
       "      <td>Energía de Referencia para el Mercado Secundario</td>\n",
       "      <td>2023-09-29T11:01:54.317</td>\n",
       "      <td>2024-11-13T11:38:45.327</td>\n",
       "      <td>2018-12-01T00:00:00</td>\n",
       "      <td>2050-11-30T00:00:00</td>\n",
       "      <td>2024-10-29T10:41:42.083</td>\n",
       "      <td>https://www.simem.co/backend-files/api/PublicD...</td>\n",
       "      <td>https://www.simem.co/datadetail/d808d43d-e3da-...</td>\n",
       "      <td>Público</td>\n",
       "    </tr>\n",
       "    <tr>\n",
       "      <th>3</th>\n",
       "      <td>2106b8</td>\n",
       "      <td>Precios y estadísticas de los contratos de con...</td>\n",
       "      <td>2023-09-30T10:35:01.19</td>\n",
       "      <td>2024-11-05T06:23:54.363</td>\n",
       "      <td>2020-10-01T00:00:00</td>\n",
       "      <td>2024-10-01T00:00:00</td>\n",
       "      <td>2024-10-29T23:11:56.05</td>\n",
       "      <td>https://www.simem.co/backend-files/api/PublicD...</td>\n",
       "      <td>https://www.simem.co/datadetail/99686983-57a4-...</td>\n",
       "      <td>Público</td>\n",
       "    </tr>\n",
       "    <tr>\n",
       "      <th>4</th>\n",
       "      <td>F3A83B</td>\n",
       "      <td>Estadísticas de contratos de Demanda Desconect...</td>\n",
       "      <td>2023-09-30T11:09:06.763</td>\n",
       "      <td>2024-11-14T08:12:47.077</td>\n",
       "      <td>2022-12-01T00:00:00</td>\n",
       "      <td>2024-11-01T00:00:00</td>\n",
       "      <td>2024-11-12T09:37:10.313</td>\n",
       "      <td>https://www.simem.co/backend-files/api/PublicD...</td>\n",
       "      <td>https://www.simem.co/datadetail/f3a83baa-a370-...</td>\n",
       "      <td>Público</td>\n",
       "    </tr>\n",
       "  </tbody>\n",
       "</table>\n",
       "</div>"
      ],
      "text/plain": [
       "  idDataset  ... tipoPublicacion\n",
       "0    ADE905  ...         Público\n",
       "1    a704ee  ...         Público\n",
       "2    d808d4  ...         Público\n",
       "3    2106b8  ...         Público\n",
       "4    F3A83B  ...         Público\n",
       "\n",
       "[5 rows x 10 columns]"
      ]
     },
     "execution_count": 6,
     "metadata": {},
     "output_type": "execute_result"
    }
   ],
   "source": [
    "df_catalogo = catalogo.get_data()\n",
    "df_catalogo.head()"
   ]
  },
  {
   "cell_type": "markdown",
   "metadata": {},
   "source": [
    "Aquí se obtienen todos los conjuntos de datos disponibles en SiMEM, las columnas se leen de la siguiente manera:\n",
    " \n",
    "* **idDataset**: Identificador único del conjunto de datos, es el que se utiliza en el simem PyDataSimem para consultar la información.\n",
    "* **nombreConjuntoDatos**: Nombre con el que se encuentra el conjunto de datos en el portal.\n",
    "* **fechaPublicacion**: Indica desde cuando existe el el conjunto de datos en SIMEM\n",
    "* **fechaActualizacion**: Indica la ultima vez que se actualizó el conjunto de datos\n",
    "* **inicioDato**: Indica desde qué fecha contiene información el conjunto de datos\n",
    "* **finDato**: Indica hasta cuando contiene información el conjunto de datos\n",
    "* **fechaDescarga**: Indica la fecha y hora de la ultima descarga del conjunto de datos\n",
    "* **urlConexionAPI**: URL para la conexión a la API\n",
    "* **urlConjuntoDatos**: URL para la conexión en el portal SIMEM\n",
    "* **tipoPublicacion**: \tPrivacidad del conjunto de datos"
   ]
  },
  {
   "cell_type": "markdown",
   "metadata": {},
   "source": [
    "### Consultar información de un conjunto de datos"
   ]
  },
  {
   "cell_type": "markdown",
   "metadata": {},
   "source": [
    "Para el ejemplo, se desea consultar la información de la Generación Real del SIN entre la fecha 2024-04-01 y la fecha 2024-04-07. Para esto, buscamos en el catálogo de datos el Dataset ID correspondiente"
   ]
  },
  {
   "cell_type": "code",
   "execution_count": 27,
   "metadata": {},
   "outputs": [
    {
     "data": {
      "text/html": [
       "<div>\n",
       "<style scoped>\n",
       "    .dataframe tbody tr th:only-of-type {\n",
       "        vertical-align: middle;\n",
       "    }\n",
       "\n",
       "    .dataframe tbody tr th {\n",
       "        vertical-align: top;\n",
       "    }\n",
       "\n",
       "    .dataframe thead th {\n",
       "        text-align: right;\n",
       "    }\n",
       "</style>\n",
       "<table border=\"1\" class=\"dataframe\">\n",
       "  <thead>\n",
       "    <tr style=\"text-align: right;\">\n",
       "      <th></th>\n",
       "      <th>idDataset</th>\n",
       "      <th>nombreConjuntoDatos</th>\n",
       "      <th>fechaPublicacion</th>\n",
       "      <th>fechaActualizacion</th>\n",
       "      <th>inicioDato</th>\n",
       "      <th>finDato</th>\n",
       "      <th>fechaDescarga</th>\n",
       "      <th>urlConexionAPI</th>\n",
       "      <th>urlConjuntoDatos</th>\n",
       "      <th>tipoPublicacion</th>\n",
       "    </tr>\n",
       "  </thead>\n",
       "  <tbody>\n",
       "    <tr>\n",
       "      <th>208</th>\n",
       "      <td>E17D25</td>\n",
       "      <td>Generación Real y Programada en las Plantas de...</td>\n",
       "      <td>2023-09-29T10:59:40.38</td>\n",
       "      <td>2024-05-09T08:14:57.693</td>\n",
       "      <td>2013-01-01T00:00:00</td>\n",
       "      <td>2024-05-07T00:00:00</td>\n",
       "      <td>2024-04-26T17:46:58.05</td>\n",
       "      <td>https://www.simem.co/backend-files/api/PublicD...</td>\n",
       "      <td>https://www.simem.co/datadetail/e17d259d-ffba-...</td>\n",
       "      <td>Público</td>\n",
       "    </tr>\n",
       "  </tbody>\n",
       "</table>\n",
       "</div>"
      ],
      "text/plain": [
       "    idDataset                                nombreConjuntoDatos  \\\n",
       "208    E17D25  Generación Real y Programada en las Plantas de...   \n",
       "\n",
       "           fechaPublicacion       fechaActualizacion           inicioDato  \\\n",
       "208  2023-09-29T10:59:40.38  2024-05-09T08:14:57.693  2013-01-01T00:00:00   \n",
       "\n",
       "                 finDato           fechaDescarga  \\\n",
       "208  2024-05-07T00:00:00  2024-04-26T17:46:58.05   \n",
       "\n",
       "                                        urlConexionAPI  \\\n",
       "208  https://www.simem.co/backend-files/api/PublicD...   \n",
       "\n",
       "                                      urlConjuntoDatos tipoPublicacion  \n",
       "208  https://www.simem.co/datadetail/e17d259d-ffba-...         Público  "
      ]
     },
     "execution_count": 27,
     "metadata": {},
     "output_type": "execute_result"
    }
   ],
   "source": [
    "df_catalogo.query(\"nombreConjuntoDatos.str.contains('Generación Real')\")"
   ]
  },
  {
   "cell_type": "markdown",
   "metadata": {},
   "source": [
    "Ahora, se definen los parámetros de entrada y se hace la búsqueda de la información."
   ]
  },
  {
   "cell_type": "code",
   "execution_count": 8,
   "metadata": {},
   "outputs": [],
   "source": [
    "dataset_id = 'E17D25'\n",
    "fecha_inicio = '2024-04-01'\n",
    "fecha_fin = '2024-04-30'\n",
    "simem = ReadSIMEM(dataset_id, fecha_inicio, fecha_fin)"
   ]
  },
  {
   "cell_type": "code",
   "execution_count": 9,
   "metadata": {},
   "outputs": [
    {
     "data": {
      "text/html": [
       "<div>\n",
       "<style scoped>\n",
       "    .dataframe tbody tr th:only-of-type {\n",
       "        vertical-align: middle;\n",
       "    }\n",
       "\n",
       "    .dataframe tbody tr th {\n",
       "        vertical-align: top;\n",
       "    }\n",
       "\n",
       "    .dataframe thead th {\n",
       "        text-align: right;\n",
       "    }\n",
       "</style>\n",
       "<table border=\"1\" class=\"dataframe\">\n",
       "  <thead>\n",
       "    <tr style=\"text-align: right;\">\n",
       "      <th></th>\n",
       "      <th>Fecha</th>\n",
       "      <th>CodigoPlanta</th>\n",
       "      <th>TipoGeneracion</th>\n",
       "      <th>TipoClasificacion</th>\n",
       "      <th>TipoDespachoRecurso</th>\n",
       "      <th>GeneracionRealEstimada</th>\n",
       "      <th>GeneracionProgramadaDespacho</th>\n",
       "      <th>GeneracionProgramadaRedespacho</th>\n",
       "    </tr>\n",
       "  </thead>\n",
       "  <tbody>\n",
       "    <tr>\n",
       "      <th>0</th>\n",
       "      <td>2024-04-30</td>\n",
       "      <td>3HLD</td>\n",
       "      <td>Solar</td>\n",
       "      <td>Solar</td>\n",
       "      <td>No Despachado Centralmente</td>\n",
       "      <td>43896.92</td>\n",
       "      <td>70840.0</td>\n",
       "      <td>70840.0</td>\n",
       "    </tr>\n",
       "    <tr>\n",
       "      <th>1</th>\n",
       "      <td>2024-04-30</td>\n",
       "      <td>3GVI</td>\n",
       "      <td>Solar</td>\n",
       "      <td>Solar</td>\n",
       "      <td>No Despachado Centralmente</td>\n",
       "      <td>155235.44</td>\n",
       "      <td>6000.0</td>\n",
       "      <td>6000.0</td>\n",
       "    </tr>\n",
       "    <tr>\n",
       "      <th>2</th>\n",
       "      <td>2024-04-30</td>\n",
       "      <td>3K6T</td>\n",
       "      <td>Solar</td>\n",
       "      <td>Solar</td>\n",
       "      <td>No Despachado Centralmente</td>\n",
       "      <td>57742.14</td>\n",
       "      <td>58390.0</td>\n",
       "      <td>58390.0</td>\n",
       "    </tr>\n",
       "    <tr>\n",
       "      <th>3</th>\n",
       "      <td>2024-04-30</td>\n",
       "      <td>3J4R</td>\n",
       "      <td>Solar</td>\n",
       "      <td>Solar</td>\n",
       "      <td>No Despachado Centralmente</td>\n",
       "      <td>72670.67</td>\n",
       "      <td>78550.0</td>\n",
       "      <td>78550.0</td>\n",
       "    </tr>\n",
       "    <tr>\n",
       "      <th>4</th>\n",
       "      <td>2024-04-30</td>\n",
       "      <td>3IS2</td>\n",
       "      <td>Solar</td>\n",
       "      <td>Solar</td>\n",
       "      <td>No Despachado Centralmente</td>\n",
       "      <td>15482.22</td>\n",
       "      <td>12900.0</td>\n",
       "      <td>12900.0</td>\n",
       "    </tr>\n",
       "    <tr>\n",
       "      <th>5</th>\n",
       "      <td>2024-04-30</td>\n",
       "      <td>3J2H</td>\n",
       "      <td>Solar</td>\n",
       "      <td>Solar</td>\n",
       "      <td>No Despachado Centralmente</td>\n",
       "      <td>50692.80</td>\n",
       "      <td>75230.0</td>\n",
       "      <td>75230.0</td>\n",
       "    </tr>\n",
       "    <tr>\n",
       "      <th>6</th>\n",
       "      <td>2024-04-30</td>\n",
       "      <td>3HF7</td>\n",
       "      <td>Solar</td>\n",
       "      <td>Solar</td>\n",
       "      <td>No Despachado Centralmente</td>\n",
       "      <td>152107.45</td>\n",
       "      <td>139000.0</td>\n",
       "      <td>139000.0</td>\n",
       "    </tr>\n",
       "    <tr>\n",
       "      <th>7</th>\n",
       "      <td>2024-04-30</td>\n",
       "      <td>3CSH</td>\n",
       "      <td>Solar</td>\n",
       "      <td>Solar</td>\n",
       "      <td>No Despachado Centralmente</td>\n",
       "      <td>53915.81</td>\n",
       "      <td>46790.0</td>\n",
       "      <td>46790.0</td>\n",
       "    </tr>\n",
       "    <tr>\n",
       "      <th>8</th>\n",
       "      <td>2024-04-30</td>\n",
       "      <td>3C3Z</td>\n",
       "      <td>Solar</td>\n",
       "      <td>Solar</td>\n",
       "      <td>No Despachado Centralmente</td>\n",
       "      <td>152509.45</td>\n",
       "      <td>141000.0</td>\n",
       "      <td>141000.0</td>\n",
       "    </tr>\n",
       "    <tr>\n",
       "      <th>9</th>\n",
       "      <td>2024-04-30</td>\n",
       "      <td>3EBN</td>\n",
       "      <td>Solar</td>\n",
       "      <td>Solar</td>\n",
       "      <td>No Despachado Centralmente</td>\n",
       "      <td>69994.08</td>\n",
       "      <td>17000.0</td>\n",
       "      <td>17000.0</td>\n",
       "    </tr>\n",
       "  </tbody>\n",
       "</table>\n",
       "</div>"
      ],
      "text/plain": [
       "        Fecha  ... GeneracionProgramadaRedespacho\n",
       "0  2024-04-30  ...                        70840.0\n",
       "1  2024-04-30  ...                         6000.0\n",
       "2  2024-04-30  ...                        58390.0\n",
       "3  2024-04-30  ...                        78550.0\n",
       "4  2024-04-30  ...                        12900.0\n",
       "5  2024-04-30  ...                        75230.0\n",
       "6  2024-04-30  ...                       139000.0\n",
       "7  2024-04-30  ...                        46790.0\n",
       "8  2024-04-30  ...                       141000.0\n",
       "9  2024-04-30  ...                        17000.0\n",
       "\n",
       "[10 rows x 8 columns]"
      ]
     },
     "execution_count": 9,
     "metadata": {},
     "output_type": "execute_result"
    }
   ],
   "source": [
    "df_genreal = simem.main()\n",
    "df_genreal.head(10)"
   ]
  },
  {
   "cell_type": "markdown",
   "metadata": {},
   "source": [
    "### Analizar la información consultada"
   ]
  },
  {
   "cell_type": "markdown",
   "metadata": {},
   "source": [
    "De acuerdo con la información que entrega el conjunto de datos de generación real, es posible obtener información, por ejemplo, de cuánto fue la generación real por tipo de generación para cada día de la consulta."
   ]
  },
  {
   "cell_type": "code",
   "execution_count": 10,
   "metadata": {},
   "outputs": [
    {
     "data": {
      "text/html": [
       "<div>\n",
       "<style scoped>\n",
       "    .dataframe tbody tr th:only-of-type {\n",
       "        vertical-align: middle;\n",
       "    }\n",
       "\n",
       "    .dataframe tbody tr th {\n",
       "        vertical-align: top;\n",
       "    }\n",
       "\n",
       "    .dataframe thead th {\n",
       "        text-align: right;\n",
       "    }\n",
       "</style>\n",
       "<table border=\"1\" class=\"dataframe\">\n",
       "  <thead>\n",
       "    <tr style=\"text-align: right;\">\n",
       "      <th>TipoGeneracion</th>\n",
       "      <th>Fecha</th>\n",
       "      <th>Cogenerador</th>\n",
       "      <th>Eolica</th>\n",
       "      <th>Hidraulica</th>\n",
       "      <th>Solar</th>\n",
       "      <th>Termica</th>\n",
       "    </tr>\n",
       "  </thead>\n",
       "  <tbody>\n",
       "    <tr>\n",
       "      <th>0</th>\n",
       "      <td>2024-04-01</td>\n",
       "      <td>2.214651</td>\n",
       "      <td>0.433633</td>\n",
       "      <td>117.223750</td>\n",
       "      <td>9.861246</td>\n",
       "      <td>102.354904</td>\n",
       "    </tr>\n",
       "    <tr>\n",
       "      <th>1</th>\n",
       "      <td>2024-04-02</td>\n",
       "      <td>2.160171</td>\n",
       "      <td>0.443939</td>\n",
       "      <td>117.813511</td>\n",
       "      <td>7.857762</td>\n",
       "      <td>101.570386</td>\n",
       "    </tr>\n",
       "    <tr>\n",
       "      <th>2</th>\n",
       "      <td>2024-04-03</td>\n",
       "      <td>2.358129</td>\n",
       "      <td>0.416975</td>\n",
       "      <td>117.142970</td>\n",
       "      <td>7.001703</td>\n",
       "      <td>104.479538</td>\n",
       "    </tr>\n",
       "    <tr>\n",
       "      <th>3</th>\n",
       "      <td>2024-04-04</td>\n",
       "      <td>2.222087</td>\n",
       "      <td>0.369173</td>\n",
       "      <td>117.444236</td>\n",
       "      <td>5.762751</td>\n",
       "      <td>104.918669</td>\n",
       "    </tr>\n",
       "    <tr>\n",
       "      <th>4</th>\n",
       "      <td>2024-04-05</td>\n",
       "      <td>2.050047</td>\n",
       "      <td>0.386227</td>\n",
       "      <td>123.198462</td>\n",
       "      <td>9.090898</td>\n",
       "      <td>102.559779</td>\n",
       "    </tr>\n",
       "  </tbody>\n",
       "</table>\n",
       "</div>"
      ],
      "text/plain": [
       "TipoGeneracion      Fecha  Cogenerador  ...     Solar     Termica\n",
       "0              2024-04-01     2.214651  ...  9.861246  102.354904\n",
       "1              2024-04-02     2.160171  ...  7.857762  101.570386\n",
       "2              2024-04-03     2.358129  ...  7.001703  104.479538\n",
       "3              2024-04-04     2.222087  ...  5.762751  104.918669\n",
       "4              2024-04-05     2.050047  ...  9.090898  102.559779\n",
       "\n",
       "[5 rows x 6 columns]"
      ]
     },
     "execution_count": 10,
     "metadata": {},
     "output_type": "execute_result"
    }
   ],
   "source": [
    "df_genreal_tipo = df_genreal.groupby(['Fecha','TipoGeneracion'])['GeneracionRealEstimada'].sum().reset_index()\n",
    "millon = 1000000\n",
    "df_genreal_tipo['GeneracionRealEstimada'] = df_genreal_tipo['GeneracionRealEstimada'].div(millon)\n",
    "df_genreal_tipo = df_genreal_tipo.pivot_table(columns='TipoGeneracion', index='Fecha', values='GeneracionRealEstimada', fill_value=0).reset_index()\n",
    "df_genreal_tipo['Fecha'] = pd.to_datetime(df_genreal_tipo['Fecha'], format='%Y-%m-%d')\n",
    "df_genreal_tipo.head()"
   ]
  },
  {
   "cell_type": "code",
   "execution_count": 11,
   "metadata": {},
   "outputs": [
    {
     "data": {
      "image/png": "[encoded data removed]",
      "text/plain": [
       "<Figure size 1000x600 with 1 Axes>"
      ]
     },
     "metadata": {},
     "output_type": "display_data"
    }
   ],
   "source": [
    "tipo_generacion = list(df_genreal_tipo.drop(columns='Fecha').columns)\n",
    "colores = {\n",
    "    'Cogenerador' : '#B5C759',\n",
    "    'Eolica' : '#D5D6D2',\n",
    "    'Hidraulica' : '#1A5C8A',\n",
    "    'Solar' : '#FFC000',\n",
    "    'Termica' : '#F9461C'\n",
    "}\n",
    "def graficar_precios() -> None:\n",
    "\n",
    "    plt.figure(figsize=(10, 6))\n",
    "   \n",
    "    for column in tipo_generacion:\n",
    "        plt.plot(df_genreal_tipo['Fecha'], df_genreal_tipo[column], color=colores[column], label=column)\n",
    "\n",
    "    plt.ylabel('GWh')\n",
    "    plt.title('Generación real estimada Abril 2024')\n",
    "    plt.legend()\n",
    "    plt.grid(which='both', axis='both')\n",
    "\n",
    "    plt.gca().xaxis.set_major_formatter(mpl_dates.DateFormatter('%b %d'))\n",
    "    \n",
    "    plt.xticks(rotation=45)\n",
    "\n",
    "    plt.tight_layout()\n",
    "    plt.show()\n",
    "\n",
    "graficar_precios()\n"
   ]
  }
 ],
 "metadata": {
  "kernelspec": {
   "display_name": "pydatasimem",
   "language": "python",
   "name": "python3"
  },
  "language_info": {
   "codemirror_mode": {
    "name": "ipython",
    "version": 3
   },
   "file_extension": ".py",
   "mimetype": "text/x-python",
   "name": "python",
   "nbconvert_exporter": "python",
   "pygments_lexer": "ipython3",
   "version": "3.11.9"
  }
 },
 "nbformat": 4,
 "nbformat_minor": 2
}
